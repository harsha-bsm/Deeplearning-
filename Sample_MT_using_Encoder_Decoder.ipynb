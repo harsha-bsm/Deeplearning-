{
  "nbformat": 4,
  "nbformat_minor": 0,
  "metadata": {
    "accelerator": "GPU",
    "colab": {
      "name": "Sample_MT_using_Encoder-Decoder_Architecture.ipynb",
      "provenance": [],
      "collapsed_sections": []
    },
    "kernelspec": {
      "display_name": "Python 3",
      "name": "python3"
    }
  },
  "cells": [
    {
      "cell_type": "code",
      "metadata": {
        "id": "R5HcLgUZbhea",
        "colab": {
          "base_uri": "https://localhost:8080/"
        },
        "outputId": "2ce3d2ca-4d13-43f2-e450-d37fea60ca81"
      },
      "source": [
        "%tensorflow_version 2.x\n",
        "import tensorflow as tf\n",
        "device_name = tf.test.gpu_device_name()\n",
        "if device_name != '/device:GPU:0':\n",
        "  raise SystemError('GPU device not found')\n",
        "print('Found GPU at: {}'.format(device_name))"
      ],
      "execution_count": null,
      "outputs": [
        {
          "output_type": "stream",
          "text": [
            "Found GPU at: /device:GPU:0\n"
          ],
          "name": "stdout"
        }
      ]
    },
    {
      "cell_type": "code",
      "metadata": {
        "id": "fU80Ao-AGaob",
        "colab": {
          "base_uri": "https://localhost:8080/"
        },
        "outputId": "daa9f641-e5fe-457b-e080-42d01e9e63b9"
      },
      "source": [
        "!wget http://www.manythings.org/anki/ita-eng.zip\n",
        "!unzip ita-eng.zip"
      ],
      "execution_count": null,
      "outputs": [
        {
          "output_type": "stream",
          "text": [
            "--2020-11-16 06:04:36--  http://www.manythings.org/anki/ita-eng.zip\n",
            "Resolving www.manythings.org (www.manythings.org)... 104.24.108.196, 104.24.109.196, 172.67.173.198, ...\n",
            "Connecting to www.manythings.org (www.manythings.org)|104.24.108.196|:80... connected.\n",
            "HTTP request sent, awaiting response... 200 OK\n",
            "Length: 7468237 (7.1M) [application/zip]\n",
            "Saving to: ‘ita-eng.zip’\n",
            "\n",
            "ita-eng.zip         100%[===================>]   7.12M  19.2MB/s    in 0.4s    \n",
            "\n",
            "2020-11-16 06:04:36 (19.2 MB/s) - ‘ita-eng.zip’ saved [7468237/7468237]\n",
            "\n",
            "Archive:  ita-eng.zip\n",
            "  inflating: ita.txt                 \n",
            "  inflating: _about.txt              \n"
          ],
          "name": "stdout"
        }
      ]
    },
    {
      "cell_type": "code",
      "metadata": {
        "id": "G6aDMnsP89VN",
        "colab": {
          "base_uri": "https://localhost:8080/"
        },
        "outputId": "95ac231e-17bb-4b85-d70b-ffa01a2dac10"
      },
      "source": [
        "!wget https://www.dropbox.com/s/ddkmtqz01jc024u/glove.6B.100d.txt"
      ],
      "execution_count": null,
      "outputs": [
        {
          "output_type": "stream",
          "text": [
            "--2020-11-16 06:04:42--  https://www.dropbox.com/s/ddkmtqz01jc024u/glove.6B.100d.txt\n",
            "Resolving www.dropbox.com (www.dropbox.com)... 162.125.6.1, 2620:100:601c:1::a27d:601\n",
            "Connecting to www.dropbox.com (www.dropbox.com)|162.125.6.1|:443... connected.\n",
            "HTTP request sent, awaiting response... 301 Moved Permanently\n",
            "Location: /s/raw/ddkmtqz01jc024u/glove.6B.100d.txt [following]\n",
            "--2020-11-16 06:04:42--  https://www.dropbox.com/s/raw/ddkmtqz01jc024u/glove.6B.100d.txt\n",
            "Reusing existing connection to www.dropbox.com:443.\n",
            "HTTP request sent, awaiting response... 302 Found\n",
            "Location: https://uc9d6631bc56059ac38790570bce.dl.dropboxusercontent.com/cd/0/inline/BDQQ5RcRkiOX5gobMYNjhGmzobSoyW0SeIuvIp05mY2kI2mDCd7ShAOrMC2iMYRHe-jxrenMMB_drsgvf2HH-TnOSF0pH4cA4GQ7UhIELRc5ZYV9WhToRV6FlEP44W77m08/file# [following]\n",
            "--2020-11-16 06:04:43--  https://uc9d6631bc56059ac38790570bce.dl.dropboxusercontent.com/cd/0/inline/BDQQ5RcRkiOX5gobMYNjhGmzobSoyW0SeIuvIp05mY2kI2mDCd7ShAOrMC2iMYRHe-jxrenMMB_drsgvf2HH-TnOSF0pH4cA4GQ7UhIELRc5ZYV9WhToRV6FlEP44W77m08/file\n",
            "Resolving uc9d6631bc56059ac38790570bce.dl.dropboxusercontent.com (uc9d6631bc56059ac38790570bce.dl.dropboxusercontent.com)... 162.125.6.15, 2620:100:601c:15::a27d:60f\n",
            "Connecting to uc9d6631bc56059ac38790570bce.dl.dropboxusercontent.com (uc9d6631bc56059ac38790570bce.dl.dropboxusercontent.com)|162.125.6.15|:443... connected.\n",
            "HTTP request sent, awaiting response... 200 OK\n",
            "Length: 347116733 (331M) [text/plain]\n",
            "Saving to: ‘glove.6B.100d.txt’\n",
            "\n",
            "glove.6B.100d.txt   100%[===================>] 331.04M   112MB/s    in 3.0s    \n",
            "\n",
            "2020-11-16 06:04:46 (112 MB/s) - ‘glove.6B.100d.txt’ saved [347116733/347116733]\n",
            "\n"
          ],
          "name": "stdout"
        }
      ]
    },
    {
      "cell_type": "code",
      "metadata": {
        "id": "Wyt_g2RXeYCL"
      },
      "source": [
        ""
      ],
      "execution_count": null,
      "outputs": []
    },
    {
      "cell_type": "markdown",
      "metadata": {
        "id": "vmGWTdRmKRph"
      },
      "source": [
        "### <font color='blue'>**Loading data**</font>"
      ]
    },
    {
      "cell_type": "code",
      "metadata": {
        "id": "6KHw1l6QREOD"
      },
      "source": [
        "import matplotlib.pyplot as plt\n",
        "%matplotlib inline\n",
        "# import seaborn as sns\n",
        "import pandas as pd\n",
        "import re\n",
        "import tensorflow as tf\n",
        "from tensorflow.keras.layers import Embedding, LSTM, Dense,Concatenate,TimeDistributed,Masking\n",
        "from tensorflow.keras.models import Model\n",
        "from tensorflow.keras.preprocessing.text import Tokenizer\n",
        "from tensorflow.keras.preprocessing.sequence import pad_sequences\n",
        "\n",
        "import numpy as np"
      ],
      "execution_count": null,
      "outputs": []
    },
    {
      "cell_type": "code",
      "metadata": {
        "id": "9QqElB_nKZos",
        "colab": {
          "base_uri": "https://localhost:8080/",
          "height": 207
        },
        "outputId": "16b38b76-7a6b-41ca-eb1d-7824c9093254"
      },
      "source": [
        "with open('ita.txt', 'r', encoding=\"utf8\") as f:\n",
        "    eng=[]\n",
        "    ita=[]\n",
        "    for i in f.readlines():\n",
        "        eng.append(i.split(\"\\t\")[0])\n",
        "        ita.append(i.split(\"\\t\")[1])\n",
        "data = pd.DataFrame(data=list(zip(eng, ita)), columns=['english','italian'])\n",
        "print(data.shape)\n",
        "data.head()"
      ],
      "execution_count": null,
      "outputs": [
        {
          "output_type": "stream",
          "text": [
            "(341554, 2)\n"
          ],
          "name": "stdout"
        },
        {
          "output_type": "execute_result",
          "data": {
            "text/html": [
              "<div>\n",
              "<style scoped>\n",
              "    .dataframe tbody tr th:only-of-type {\n",
              "        vertical-align: middle;\n",
              "    }\n",
              "\n",
              "    .dataframe tbody tr th {\n",
              "        vertical-align: top;\n",
              "    }\n",
              "\n",
              "    .dataframe thead th {\n",
              "        text-align: right;\n",
              "    }\n",
              "</style>\n",
              "<table border=\"1\" class=\"dataframe\">\n",
              "  <thead>\n",
              "    <tr style=\"text-align: right;\">\n",
              "      <th></th>\n",
              "      <th>english</th>\n",
              "      <th>italian</th>\n",
              "    </tr>\n",
              "  </thead>\n",
              "  <tbody>\n",
              "    <tr>\n",
              "      <th>0</th>\n",
              "      <td>Hi.</td>\n",
              "      <td>Ciao!</td>\n",
              "    </tr>\n",
              "    <tr>\n",
              "      <th>1</th>\n",
              "      <td>Run!</td>\n",
              "      <td>Corri!</td>\n",
              "    </tr>\n",
              "    <tr>\n",
              "      <th>2</th>\n",
              "      <td>Run!</td>\n",
              "      <td>Corra!</td>\n",
              "    </tr>\n",
              "    <tr>\n",
              "      <th>3</th>\n",
              "      <td>Run!</td>\n",
              "      <td>Correte!</td>\n",
              "    </tr>\n",
              "    <tr>\n",
              "      <th>4</th>\n",
              "      <td>Who?</td>\n",
              "      <td>Chi?</td>\n",
              "    </tr>\n",
              "  </tbody>\n",
              "</table>\n",
              "</div>"
            ],
            "text/plain": [
              "  english   italian\n",
              "0     Hi.     Ciao!\n",
              "1    Run!    Corri!\n",
              "2    Run!    Corra!\n",
              "3    Run!  Correte!\n",
              "4    Who?      Chi?"
            ]
          },
          "metadata": {
            "tags": []
          },
          "execution_count": 6
        }
      ]
    },
    {
      "cell_type": "code",
      "metadata": {
        "id": "XnDyE0ljbYor",
        "colab": {
          "base_uri": "https://localhost:8080/",
          "height": 191
        },
        "outputId": "69de4a0b-5e22-41ca-c0ea-2e3767c347f5"
      },
      "source": [
        "def decontractions(phrase):\n",
        "     ref: https://stackoverflow.com/questions/19790188/expanding-english-language-contractions-in-python/47091490#47091490\"\"\"\n",
        "    # specific\n",
        "    phrase = re.sub(r\"won\\'t\", \"will not\", phrase)\n",
        "    phrase = re.sub(r\"can\\'t\", \"can not\", phrase)\n",
        "    phrase = re.sub(r\"won\\’t\", \"will not\", phrase)\n",
        "    phrase = re.sub(r\"can\\’t\", \"can not\", phrase)\n",
        "\n",
        "    # general\n",
        "    phrase = re.sub(r\"n\\'t\", \" not\", phrase)\n",
        "    phrase = re.sub(r\"\\'re\", \" are\", phrase)\n",
        "    phrase = re.sub(r\"\\'s\", \" is\", phrase)\n",
        "    phrase = re.sub(r\"\\'d\", \" would\", phrase)\n",
        "    phrase = re.sub(r\"\\'ll\", \" will\", phrase)\n",
        "    phrase = re.sub(r\"\\'t\", \" not\", phrase)\n",
        "    phrase = re.sub(r\"\\'ve\", \" have\", phrase)\n",
        "    phrase = re.sub(r\"\\'m\", \" am\", phrase)\n",
        "\n",
        "    phrase = re.sub(r\"n\\’t\", \" not\", phrase)\n",
        "    phrase = re.sub(r\"\\’re\", \" are\", phrase)\n",
        "    phrase = re.sub(r\"\\’s\", \" is\", phrase)\n",
        "    phrase = re.sub(r\"\\’d\", \" would\", phrase)\n",
        "    phrase = re.sub(r\"\\’ll\", \" will\", phrase)\n",
        "    phrase = re.sub(r\"\\’t\", \" not\", phrase)\n",
        "    phrase = re.sub(r\"\\’ve\", \" have\", phrase)\n",
        "    phrase = re.sub(r\"\\’m\", \" am\", phrase)\n",
        "\n",
        "    return phrase\n",
        "\n",
        "def preprocess(text):\n",
        "\n",
        "    text = text.lower()\n",
        "    text = decontractions(text)\n",
        "    text = re.sub('[^A-Za-z0-9 ]+', '', text)\n",
        "    return text\n",
        "\n",
        "def preprocess_ita(text):\n",
        "\n",
        "    \n",
        "    text = text.lower()\n",
        "    text = decontractions(text)\n",
        "    text = re.sub('[$)\\?\"’.°!;\\'€%:,(/]', '', text)\n",
        "    text = re.sub('\\u200b', ' ', text)\n",
        "    text = re.sub('\\xa0', ' ', text)\n",
        "    text = re.sub('-', ' ', text)\n",
        "    return text\n",
        "\n",
        "\n",
        "data['english'] = data['english'].apply(preprocess)\n",
        "data['italian'] = data['italian'].apply(preprocess_ita)\n",
        "data.head()"
      ],
      "execution_count": null,
      "outputs": [
        {
          "output_type": "execute_result",
          "data": {
            "text/html": [
              "<div>\n",
              "<style scoped>\n",
              "    .dataframe tbody tr th:only-of-type {\n",
              "        vertical-align: middle;\n",
              "    }\n",
              "\n",
              "    .dataframe tbody tr th {\n",
              "        vertical-align: top;\n",
              "    }\n",
              "\n",
              "    .dataframe thead th {\n",
              "        text-align: right;\n",
              "    }\n",
              "</style>\n",
              "<table border=\"1\" class=\"dataframe\">\n",
              "  <thead>\n",
              "    <tr style=\"text-align: right;\">\n",
              "      <th></th>\n",
              "      <th>english</th>\n",
              "      <th>italian</th>\n",
              "    </tr>\n",
              "  </thead>\n",
              "  <tbody>\n",
              "    <tr>\n",
              "      <th>0</th>\n",
              "      <td>hi</td>\n",
              "      <td>ciao</td>\n",
              "    </tr>\n",
              "    <tr>\n",
              "      <th>1</th>\n",
              "      <td>run</td>\n",
              "      <td>corri</td>\n",
              "    </tr>\n",
              "    <tr>\n",
              "      <th>2</th>\n",
              "      <td>run</td>\n",
              "      <td>corra</td>\n",
              "    </tr>\n",
              "    <tr>\n",
              "      <th>3</th>\n",
              "      <td>run</td>\n",
              "      <td>correte</td>\n",
              "    </tr>\n",
              "    <tr>\n",
              "      <th>4</th>\n",
              "      <td>who</td>\n",
              "      <td>chi</td>\n",
              "    </tr>\n",
              "  </tbody>\n",
              "</table>\n",
              "</div>"
            ],
            "text/plain": [
              "  english  italian\n",
              "0      hi     ciao\n",
              "1     run    corri\n",
              "2     run    corra\n",
              "3     run  correte\n",
              "4     who      chi"
            ]
          },
          "metadata": {
            "tags": []
          },
          "execution_count": 7
        }
      ]
    },
    {
      "cell_type": "code",
      "metadata": {
        "id": "IypVGvYKREOL",
        "scrolled": true
      },
      "source": [
        "ita_lengths = data['italian'].str.split().apply(len)\n",
        "eng_lengths = data['english'].str.split().apply(len)"
      ],
      "execution_count": null,
      "outputs": []
    },
    {
      "cell_type": "code",
      "metadata": {
        "id": "YOWJ9c5jREON",
        "colab": {
          "base_uri": "https://localhost:8080/"
        },
        "outputId": "3dacd564-9191-48fa-8fe0-477483977be3"
      },
      "source": [
        "for i in range(0,101,10):\n",
        "    print(i,np.percentile(ita_lengths, i))\n",
        "for i in range(90,101):\n",
        "    print(i,np.percentile(ita_lengths, i))\n",
        "for i in [99.1,99.2,99.3,99.4,99.5,99.6,99.7,99.8,99.9,100]:\n",
        "    print(i,np.percentile(ita_lengths, i))"
      ],
      "execution_count": null,
      "outputs": [
        {
          "output_type": "stream",
          "text": [
            "0 1.0\n",
            "10 3.0\n",
            "20 4.0\n",
            "30 4.0\n",
            "40 5.0\n",
            "50 5.0\n",
            "60 6.0\n",
            "70 6.0\n",
            "80 7.0\n",
            "90 8.0\n",
            "100 92.0\n",
            "90 8.0\n",
            "91 8.0\n",
            "92 8.0\n",
            "93 9.0\n",
            "94 9.0\n",
            "95 9.0\n",
            "96 9.0\n",
            "97 10.0\n",
            "98 11.0\n",
            "99 12.0\n",
            "100 92.0\n",
            "99.1 12.0\n",
            "99.2 12.0\n",
            "99.3 12.0\n",
            "99.4 13.0\n",
            "99.5 13.0\n",
            "99.6 14.0\n",
            "99.7 15.0\n",
            "99.8 16.0\n",
            "99.9 20.0\n",
            "100 92.0\n"
          ],
          "name": "stdout"
        }
      ]
    },
    {
      "cell_type": "code",
      "metadata": {
        "id": "pGCOWtN1REOP",
        "colab": {
          "base_uri": "https://localhost:8080/"
        },
        "outputId": "4bd394d9-cc10-460e-cdd0-a0f757548ca1"
      },
      "source": [
        "for i in range(0,101,10):\n",
        "    print(i,np.percentile(eng_lengths, i))\n",
        "for i in range(90,101):\n",
        "    print(i,np.percentile(eng_lengths, i))\n",
        "for i in [99.1,99.2,99.3,99.4,99.5,99.6,99.7,99.8,99.9,100]:\n",
        "    print(i,np.percentile(eng_lengths, i))"
      ],
      "execution_count": null,
      "outputs": [
        {
          "output_type": "stream",
          "text": [
            "0 1.0\n",
            "10 4.0\n",
            "20 4.0\n",
            "30 5.0\n",
            "40 5.0\n",
            "50 6.0\n",
            "60 6.0\n",
            "70 7.0\n",
            "80 7.0\n",
            "90 8.0\n",
            "100 101.0\n",
            "90 8.0\n",
            "91 9.0\n",
            "92 9.0\n",
            "93 9.0\n",
            "94 9.0\n",
            "95 9.0\n",
            "96 10.0\n",
            "97 10.0\n",
            "98 11.0\n",
            "99 12.0\n",
            "100 101.0\n",
            "99.1 12.0\n",
            "99.2 13.0\n",
            "99.3 13.0\n",
            "99.4 13.0\n",
            "99.5 14.0\n",
            "99.6 14.0\n",
            "99.7 15.0\n",
            "99.8 16.0\n",
            "99.9 20.0\n",
            "100 101.0\n"
          ],
          "name": "stdout"
        }
      ]
    },
    {
      "cell_type": "markdown",
      "metadata": {
        "id": "u-6pcMyuREOR"
      },
      "source": [
        "> <font color=\"blue\"><b>If you observe the values, 99.9% of the data points are having length &lt; 20, so select the sentences that have words &lt; 20 </b> </font>\n",
        "<br>\n",
        "<br>\n",
        "> <font color=\"green\"><b>Inorder to do the teacher forcing while training of seq-seq models, lets create two new columns, one with  &lt;start&gt; token at begining of the sentence and other column with &lt;end&gt; token at the end of the sequence</b></font>"
      ]
    },
    {
      "cell_type": "code",
      "metadata": {
        "id": "frL1wvLwSz7_",
        "colab": {
          "base_uri": "https://localhost:8080/",
          "height": 191
        },
        "outputId": "84574b07-c469-4e2c-ff7e-3052432e6bc0"
      },
      "source": [
        "data['italian_len'] = data['italian'].str.split().apply(len)\n",
        "data = data[data['italian_len'] < 20]\n",
        "\n",
        "data['english_len'] = data['english'].str.split().apply(len)\n",
        "data = data[data['english_len'] < 20]\n",
        "\n",
        "data['english_inp'] = '<start> ' + data['english'].astype(str)\n",
        "data['english_out'] = data['english'].astype(str) + ' <end>'\n",
        "\n",
        "data = data.drop(['english','italian_len','english_len'], axis=1)\n",
        "# only for the first sentance add a toke <end> so that we will have <end> in tokenizer\n",
        "data.head()"
      ],
      "execution_count": null,
      "outputs": [
        {
          "output_type": "execute_result",
          "data": {
            "text/html": [
              "<div>\n",
              "<style scoped>\n",
              "    .dataframe tbody tr th:only-of-type {\n",
              "        vertical-align: middle;\n",
              "    }\n",
              "\n",
              "    .dataframe tbody tr th {\n",
              "        vertical-align: top;\n",
              "    }\n",
              "\n",
              "    .dataframe thead th {\n",
              "        text-align: right;\n",
              "    }\n",
              "</style>\n",
              "<table border=\"1\" class=\"dataframe\">\n",
              "  <thead>\n",
              "    <tr style=\"text-align: right;\">\n",
              "      <th></th>\n",
              "      <th>italian</th>\n",
              "      <th>english_inp</th>\n",
              "      <th>english_out</th>\n",
              "    </tr>\n",
              "  </thead>\n",
              "  <tbody>\n",
              "    <tr>\n",
              "      <th>0</th>\n",
              "      <td>ciao</td>\n",
              "      <td>&lt;start&gt; hi</td>\n",
              "      <td>hi &lt;end&gt;</td>\n",
              "    </tr>\n",
              "    <tr>\n",
              "      <th>1</th>\n",
              "      <td>corri</td>\n",
              "      <td>&lt;start&gt; run</td>\n",
              "      <td>run &lt;end&gt;</td>\n",
              "    </tr>\n",
              "    <tr>\n",
              "      <th>2</th>\n",
              "      <td>corra</td>\n",
              "      <td>&lt;start&gt; run</td>\n",
              "      <td>run &lt;end&gt;</td>\n",
              "    </tr>\n",
              "    <tr>\n",
              "      <th>3</th>\n",
              "      <td>correte</td>\n",
              "      <td>&lt;start&gt; run</td>\n",
              "      <td>run &lt;end&gt;</td>\n",
              "    </tr>\n",
              "    <tr>\n",
              "      <th>4</th>\n",
              "      <td>chi</td>\n",
              "      <td>&lt;start&gt; who</td>\n",
              "      <td>who &lt;end&gt;</td>\n",
              "    </tr>\n",
              "  </tbody>\n",
              "</table>\n",
              "</div>"
            ],
            "text/plain": [
              "   italian  english_inp english_out\n",
              "0     ciao   <start> hi    hi <end>\n",
              "1    corri  <start> run   run <end>\n",
              "2    corra  <start> run   run <end>\n",
              "3  correte  <start> run   run <end>\n",
              "4      chi  <start> who   who <end>"
            ]
          },
          "metadata": {
            "tags": []
          },
          "execution_count": 11
        }
      ]
    },
    {
      "cell_type": "code",
      "metadata": {
        "id": "xZX5xAcmxqPo",
        "colab": {
          "base_uri": "https://localhost:8080/",
          "height": 335
        },
        "outputId": "1ccb891a-895c-4a26-fb50-7958538ea6c9"
      },
      "source": [
        "data.sample(10)"
      ],
      "execution_count": null,
      "outputs": [
        {
          "output_type": "execute_result",
          "data": {
            "text/html": [
              "<div>\n",
              "<style scoped>\n",
              "    .dataframe tbody tr th:only-of-type {\n",
              "        vertical-align: middle;\n",
              "    }\n",
              "\n",
              "    .dataframe tbody tr th {\n",
              "        vertical-align: top;\n",
              "    }\n",
              "\n",
              "    .dataframe thead th {\n",
              "        text-align: right;\n",
              "    }\n",
              "</style>\n",
              "<table border=\"1\" class=\"dataframe\">\n",
              "  <thead>\n",
              "    <tr style=\"text-align: right;\">\n",
              "      <th></th>\n",
              "      <th>italian</th>\n",
              "      <th>english_inp</th>\n",
              "      <th>english_out</th>\n",
              "    </tr>\n",
              "  </thead>\n",
              "  <tbody>\n",
              "    <tr>\n",
              "      <th>83958</th>\n",
              "      <td>vi piacciono i broccoli</td>\n",
              "      <td>&lt;start&gt; do you like broccoli</td>\n",
              "      <td>do you like broccoli &lt;end&gt;</td>\n",
              "    </tr>\n",
              "    <tr>\n",
              "      <th>31757</th>\n",
              "      <td>tu puoi tornare indietro</td>\n",
              "      <td>&lt;start&gt; you can go back</td>\n",
              "      <td>you can go back &lt;end&gt;</td>\n",
              "    </tr>\n",
              "    <tr>\n",
              "      <th>103074</th>\n",
              "      <td>non pagherò questa bolletta</td>\n",
              "      <td>&lt;start&gt; i will not pay this bill</td>\n",
              "      <td>i will not pay this bill &lt;end&gt;</td>\n",
              "    </tr>\n",
              "    <tr>\n",
              "      <th>41157</th>\n",
              "      <td>tom vi pagherà</td>\n",
              "      <td>&lt;start&gt; tom will pay you</td>\n",
              "      <td>tom will pay you &lt;end&gt;</td>\n",
              "    </tr>\n",
              "    <tr>\n",
              "      <th>304533</th>\n",
              "      <td>lo sapevo che volevi dirmi qualcosa</td>\n",
              "      <td>&lt;start&gt; i knew you wanted to tell me something</td>\n",
              "      <td>i knew you wanted to tell me something &lt;end&gt;</td>\n",
              "    </tr>\n",
              "    <tr>\n",
              "      <th>300175</th>\n",
              "      <td>guardate il treno che attraversa il ponte</td>\n",
              "      <td>&lt;start&gt; look at the train crossing the bridge</td>\n",
              "      <td>look at the train crossing the bridge &lt;end&gt;</td>\n",
              "    </tr>\n",
              "    <tr>\n",
              "      <th>176770</th>\n",
              "      <td>non ricordo molto</td>\n",
              "      <td>&lt;start&gt; i do not remember very much</td>\n",
              "      <td>i do not remember very much &lt;end&gt;</td>\n",
              "    </tr>\n",
              "    <tr>\n",
              "      <th>216883</th>\n",
              "      <td>tom dove ha imparato tutto questo</td>\n",
              "      <td>&lt;start&gt; where did tom learn all this</td>\n",
              "      <td>where did tom learn all this &lt;end&gt;</td>\n",
              "    </tr>\n",
              "    <tr>\n",
              "      <th>319046</th>\n",
              "      <td>zezo non è il mio nome è solo un soprannome</td>\n",
              "      <td>&lt;start&gt; zezo is not my name it is only a nickname</td>\n",
              "      <td>zezo is not my name it is only a nickname &lt;end&gt;</td>\n",
              "    </tr>\n",
              "    <tr>\n",
              "      <th>297036</th>\n",
              "      <td>non hai il permesso di farlo</td>\n",
              "      <td>&lt;start&gt; you do not have permission to do that</td>\n",
              "      <td>you do not have permission to do that &lt;end&gt;</td>\n",
              "    </tr>\n",
              "  </tbody>\n",
              "</table>\n",
              "</div>"
            ],
            "text/plain": [
              "                                            italian  ...                                      english_out\n",
              "83958                       vi piacciono i broccoli  ...                       do you like broccoli <end>\n",
              "31757                      tu puoi tornare indietro  ...                            you can go back <end>\n",
              "103074                  non pagherò questa bolletta  ...                   i will not pay this bill <end>\n",
              "41157                                tom vi pagherà  ...                           tom will pay you <end>\n",
              "304533          lo sapevo che volevi dirmi qualcosa  ...     i knew you wanted to tell me something <end>\n",
              "300175    guardate il treno che attraversa il ponte  ...      look at the train crossing the bridge <end>\n",
              "176770                            non ricordo molto  ...                i do not remember very much <end>\n",
              "216883            tom dove ha imparato tutto questo  ...               where did tom learn all this <end>\n",
              "319046  zezo non è il mio nome è solo un soprannome  ...  zezo is not my name it is only a nickname <end>\n",
              "297036                 non hai il permesso di farlo  ...      you do not have permission to do that <end>\n",
              "\n",
              "[10 rows x 3 columns]"
            ]
          },
          "metadata": {
            "tags": []
          },
          "execution_count": 12
        }
      ]
    },
    {
      "cell_type": "code",
      "metadata": {
        "id": "qja7kkVYeYC-",
        "colab": {
          "base_uri": "https://localhost:8080/"
        },
        "outputId": "1c4e1a1c-33ed-4568-a92c-4185fb7f75f2"
      },
      "source": [
        "data.shape"
      ],
      "execution_count": null,
      "outputs": [
        {
          "output_type": "execute_result",
          "data": {
            "text/plain": [
              "(341166, 3)"
            ]
          },
          "metadata": {
            "tags": []
          },
          "execution_count": 13
        }
      ]
    },
    {
      "cell_type": "markdown",
      "metadata": {
        "id": "mNkmddZ1REOW"
      },
      "source": [
        "### Getting train and test "
      ]
    },
    {
      "cell_type": "code",
      "metadata": {
        "id": "UG50P52vhMu8"
      },
      "source": [
        "from sklearn.model_selection import train_test_split\n",
        "train, validation = train_test_split(data, test_size=0.2)"
      ],
      "execution_count": null,
      "outputs": []
    },
    {
      "cell_type": "code",
      "metadata": {
        "id": "9mp9dzm1hwv-",
        "colab": {
          "base_uri": "https://localhost:8080/"
        },
        "outputId": "57aefe6a-9f06-4d12-aa4c-0b47b702525a"
      },
      "source": [
        "print(train.shape, validation.shape)\n",
        "# for one sentence we will be adding <end> token so that the tokanizer learns the word <end>\n",
        "# with this we can use only one tokenizer for both encoder output and decoder output\n",
        "train.iloc[0]['english_inp']= str(train.iloc[0]['english_inp'])+' <end>'\n",
        "train.iloc[0]['english_out']= str(train.iloc[0]['english_out'])+' <end>'"
      ],
      "execution_count": null,
      "outputs": [
        {
          "output_type": "stream",
          "text": [
            "(272932, 3) (68234, 3)\n"
          ],
          "name": "stdout"
        }
      ]
    },
    {
      "cell_type": "code",
      "metadata": {
        "id": "Su69ZPzTsxmn",
        "colab": {
          "base_uri": "https://localhost:8080/",
          "height": 191
        },
        "outputId": "74aac469-357c-4263-93be-91b8f806d30a"
      },
      "source": [
        "train.head()"
      ],
      "execution_count": null,
      "outputs": [
        {
          "output_type": "execute_result",
          "data": {
            "text/html": [
              "<div>\n",
              "<style scoped>\n",
              "    .dataframe tbody tr th:only-of-type {\n",
              "        vertical-align: middle;\n",
              "    }\n",
              "\n",
              "    .dataframe tbody tr th {\n",
              "        vertical-align: top;\n",
              "    }\n",
              "\n",
              "    .dataframe thead th {\n",
              "        text-align: right;\n",
              "    }\n",
              "</style>\n",
              "<table border=\"1\" class=\"dataframe\">\n",
              "  <thead>\n",
              "    <tr style=\"text-align: right;\">\n",
              "      <th></th>\n",
              "      <th>italian</th>\n",
              "      <th>english_inp</th>\n",
              "      <th>english_out</th>\n",
              "    </tr>\n",
              "  </thead>\n",
              "  <tbody>\n",
              "    <tr>\n",
              "      <th>71577</th>\n",
              "      <td>comè stata la tua estate</td>\n",
              "      <td>&lt;start&gt; how was your summer &lt;end&gt;</td>\n",
              "      <td>how was your summer &lt;end&gt; &lt;end&gt;</td>\n",
              "    </tr>\n",
              "    <tr>\n",
              "      <th>164618</th>\n",
              "      <td>io parlerò con tom</td>\n",
              "      <td>&lt;start&gt; i am going to speak to tom</td>\n",
              "      <td>i am going to speak to tom &lt;end&gt;</td>\n",
              "    </tr>\n",
              "    <tr>\n",
              "      <th>249319</th>\n",
              "      <td>vorrei aver comprato un vestito bianco</td>\n",
              "      <td>&lt;start&gt; i wish i would bought a white dress</td>\n",
              "      <td>i wish i would bought a white dress &lt;end&gt;</td>\n",
              "    </tr>\n",
              "    <tr>\n",
              "      <th>157644</th>\n",
              "      <td>non cambia mai vero</td>\n",
              "      <td>&lt;start&gt; you never change do you</td>\n",
              "      <td>you never change do you &lt;end&gt;</td>\n",
              "    </tr>\n",
              "    <tr>\n",
              "      <th>283371</th>\n",
              "      <td>perché hai starnutito per tutto il giorno</td>\n",
              "      <td>&lt;start&gt; why have you been sneezing all day</td>\n",
              "      <td>why have you been sneezing all day &lt;end&gt;</td>\n",
              "    </tr>\n",
              "  </tbody>\n",
              "</table>\n",
              "</div>"
            ],
            "text/plain": [
              "                                          italian  ...                                english_out\n",
              "71577                    comè stata la tua estate  ...            how was your summer <end> <end>\n",
              "164618                         io parlerò con tom  ...           i am going to speak to tom <end>\n",
              "249319     vorrei aver comprato un vestito bianco  ...  i wish i would bought a white dress <end>\n",
              "157644                        non cambia mai vero  ...              you never change do you <end>\n",
              "283371  perché hai starnutito per tutto il giorno  ...   why have you been sneezing all day <end>\n",
              "\n",
              "[5 rows x 3 columns]"
            ]
          },
          "metadata": {
            "tags": []
          },
          "execution_count": 16
        }
      ]
    },
    {
      "cell_type": "code",
      "metadata": {
        "id": "CGqQDR8FWV3D",
        "colab": {
          "base_uri": "https://localhost:8080/",
          "height": 191
        },
        "outputId": "0aa8a163-d3a0-40ce-83a5-2ea3beaec140"
      },
      "source": [
        "validation.head()"
      ],
      "execution_count": null,
      "outputs": [
        {
          "output_type": "execute_result",
          "data": {
            "text/html": [
              "<div>\n",
              "<style scoped>\n",
              "    .dataframe tbody tr th:only-of-type {\n",
              "        vertical-align: middle;\n",
              "    }\n",
              "\n",
              "    .dataframe tbody tr th {\n",
              "        vertical-align: top;\n",
              "    }\n",
              "\n",
              "    .dataframe thead th {\n",
              "        text-align: right;\n",
              "    }\n",
              "</style>\n",
              "<table border=\"1\" class=\"dataframe\">\n",
              "  <thead>\n",
              "    <tr style=\"text-align: right;\">\n",
              "      <th></th>\n",
              "      <th>italian</th>\n",
              "      <th>english_inp</th>\n",
              "      <th>english_out</th>\n",
              "    </tr>\n",
              "  </thead>\n",
              "  <tbody>\n",
              "    <tr>\n",
              "      <th>104819</th>\n",
              "      <td>guarda letichetta del prezzo</td>\n",
              "      <td>&lt;start&gt; look at the price tag</td>\n",
              "      <td>look at the price tag &lt;end&gt;</td>\n",
              "    </tr>\n",
              "    <tr>\n",
              "      <th>47778</th>\n",
              "      <td>io sono stato discreditato</td>\n",
              "      <td>&lt;start&gt; i was discredited</td>\n",
              "      <td>i was discredited &lt;end&gt;</td>\n",
              "    </tr>\n",
              "    <tr>\n",
              "      <th>180291</th>\n",
              "      <td>non è troppo lontano da qui</td>\n",
              "      <td>&lt;start&gt; it is not too far from here</td>\n",
              "      <td>it is not too far from here &lt;end&gt;</td>\n",
              "    </tr>\n",
              "    <tr>\n",
              "      <th>134407</th>\n",
              "      <td>è sicuro entrare adesso</td>\n",
              "      <td>&lt;start&gt; is it safe to enter now</td>\n",
              "      <td>is it safe to enter now &lt;end&gt;</td>\n",
              "    </tr>\n",
              "    <tr>\n",
              "      <th>229048</th>\n",
              "      <td>tom fu arrestato quella sera</td>\n",
              "      <td>&lt;start&gt; tom was arrested that evening</td>\n",
              "      <td>tom was arrested that evening &lt;end&gt;</td>\n",
              "    </tr>\n",
              "  </tbody>\n",
              "</table>\n",
              "</div>"
            ],
            "text/plain": [
              "                             italian  ...                          english_out\n",
              "104819  guarda letichetta del prezzo  ...          look at the price tag <end>\n",
              "47778     io sono stato discreditato  ...              i was discredited <end>\n",
              "180291   non è troppo lontano da qui  ...    it is not too far from here <end>\n",
              "134407       è sicuro entrare adesso  ...        is it safe to enter now <end>\n",
              "229048  tom fu arrestato quella sera  ...  tom was arrested that evening <end>\n",
              "\n",
              "[5 rows x 3 columns]"
            ]
          },
          "metadata": {
            "tags": []
          },
          "execution_count": 17
        }
      ]
    },
    {
      "cell_type": "code",
      "metadata": {
        "id": "clrwEw6veYDT"
      },
      "source": [
        "\n",
        "import seaborn as sns"
      ],
      "execution_count": null,
      "outputs": []
    },
    {
      "cell_type": "code",
      "metadata": {
        "id": "cpuPONunjYKj",
        "colab": {
          "base_uri": "https://localhost:8080/",
          "height": 545
        },
        "outputId": "16363aac-e37a-405e-9b0f-14df8e6b5890"
      },
      "source": [
        "ita_lengths = train['italian'].str.split().apply(len)\n",
        "eng_lengths = train['english_inp'].str.split().apply(len)\n",
        "import seaborn as sns\n",
        "sns.kdeplot(ita_lengths)\n",
        "plt.show()\n",
        "sns.kdeplot(eng_lengths)\n",
        "plt.show()"
      ],
      "execution_count": null,
      "outputs": [
        {
          "output_type": "display_data",
          "data": {
            "image/png": "[encoded data removed]",
            "text/plain": [
              "<Figure size 432x288 with 1 Axes>"
            ]
          },
          "metadata": {
            "tags": [],
            "needs_background": "light"
          }
        },
        {
          "output_type": "display_data",
          "data": {
            "image/png": "[encoded data removed]",
            "text/plain": [
              "<Figure size 432x288 with 1 Axes>"
            ]
          },
          "metadata": {
            "tags": [],
            "needs_background": "light"
          }
        }
      ]
    },
    {
      "cell_type": "markdown",
      "metadata": {
        "id": "msOiI69-REOi"
      },
      "source": [
        "### Creating Tokenizer on the train data and learning vocabulary"
      ]
    },
    {
      "cell_type": "markdown",
      "metadata": {
        "id": "T7xUCLf6REOi"
      },
      "source": [
        "> Note that we are fitting the tokenizer only on train data and check the filters for english, we need to remove symbols &lt; and &gt;"
      ]
    },
    {
      "cell_type": "code",
      "metadata": {
        "id": "GPa0ldDWkav8"
      },
      "source": [
        "tknizer_ita = Tokenizer()\n",
        "tknizer_ita.fit_on_texts(train['italian'].values)\n",
        "tknizer_eng = Tokenizer(filters='!\"#$%&()*+,-./:;=?@[\\\\]^_`{|}~\\t\\n')\n",
        "tknizer_eng.fit_on_texts(train['english_inp'].values)"
      ],
      "execution_count": null,
      "outputs": []
    },
    {
      "cell_type": "code",
      "metadata": {
        "id": "q33o6-vveYDg"
      },
      "source": [
        ""
      ],
      "execution_count": null,
      "outputs": []
    },
    {
      "cell_type": "code",
      "metadata": {
        "id": "qpQ5iIxmeYDj",
        "colab": {
          "base_uri": "https://localhost:8080/"
        },
        "outputId": "be3adde7-895a-45de-df73-b386c6a39d32"
      },
      "source": [
        "len(tknizer_eng.word_index.keys())"
      ],
      "execution_count": null,
      "outputs": [
        {
          "output_type": "execute_result",
          "data": {
            "text/plain": [
              "12776"
            ]
          },
          "metadata": {
            "tags": []
          },
          "execution_count": 21
        }
      ]
    },
    {
      "cell_type": "code",
      "metadata": {
        "id": "hBb0yEYlCynz",
        "colab": {
          "base_uri": "https://localhost:8080/"
        },
        "outputId": "1a4f95fd-d8a9-4495-a8fe-d1a8f6e09721"
      },
      "source": [
        "vocab_size_eng=len(tknizer_eng.word_index.keys())\n",
        "print(vocab_size_eng)\n",
        "vocab_size_ita=len(tknizer_ita.word_index.keys())\n",
        "print(vocab_size_ita)"
      ],
      "execution_count": null,
      "outputs": [
        {
          "output_type": "stream",
          "text": [
            "12776\n",
            "26089\n"
          ],
          "name": "stdout"
        }
      ]
    },
    {
      "cell_type": "code",
      "metadata": {
        "id": "nm1uoAC-Nwuk",
        "colab": {
          "base_uri": "https://localhost:8080/"
        },
        "outputId": "d67038e3-b5ee-492f-fafe-15946d4e170f"
      },
      "source": [
        "tknizer_eng.word_index['<start>'], tknizer_eng.word_index['<end>']"
      ],
      "execution_count": null,
      "outputs": [
        {
          "output_type": "execute_result",
          "data": {
            "text/plain": [
              "(1, 10060)"
            ]
          },
          "metadata": {
            "tags": []
          },
          "execution_count": 23
        }
      ]
    },
    {
      "cell_type": "code",
      "metadata": {
        "id": "1GUnVuHWeYDy",
        "colab": {
          "base_uri": "https://localhost:8080/"
        },
        "outputId": "9c4a50eb-c85d-4cc4-b55a-7085f0e217b9"
      },
      "source": [
        "data.shape"
      ],
      "execution_count": null,
      "outputs": [
        {
          "output_type": "execute_result",
          "data": {
            "text/plain": [
              "(341166, 3)"
            ]
          },
          "metadata": {
            "tags": []
          },
          "execution_count": 24
        }
      ]
    },
    {
      "cell_type": "code",
      "metadata": {
        "id": "qE-Tafb6wCuM",
        "colab": {
          "base_uri": "https://localhost:8080/"
        },
        "outputId": "1ecd983e-c661-4f08-9b70-4b46ae7bd6ac"
      },
      "source": [
        "def grader_1(data):\n",
        "    shape_value = data.shape ==(340044, 3)\n",
        "    tknizer = Tokenizer(char_level=True)\n",
        "    tknizer.fit_on_texts(data['italian'].values)\n",
        "    ita_chars = tknizer.word_index.keys()\n",
        "    diff_chars_ita = set(ita_chars)-set([' ', 't', 'a', 'o', 'r', 'e', 's', 'i', 'n', 'l', 'c', 'm', 'u', 'd', 'p', 'v', 'h', 'g', 'b', 'f', 'è', 'q', 'z', 'ò', 'à', 'y', 'é', 'ì', 'ù', 'k', 'w', '0', 'j', '1', '3', '2', 'x', '9', '5', '8', '4', '6', '7', 'á', 'ñ', 'ê', 'ü', 'ō', 'î', 'ö', 'ú', 'º'])\n",
        "    tknizer = Tokenizer(char_level=True)\n",
        "    tknizer.fit_on_texts(data['english_inp'].values)\n",
        "    eng_chars = tknizer.word_index.keys()\n",
        "    diff_chars_eng = set(eng_chars)-set(['<','>',' ', 'e', 'o', 't', 'i', 'a', 'n', 's', 'h', 'r', 'l', 'd', 'm', 'y', 'u', 'w', 'g', 'c', 'p', 'f', 'b', 'k', 'v', 'j', 'x', 'z', 'q', '0', '1', '3', '2', '9', '5', '8', '6', '4', '7'])\n",
        "    unique_char_value = (len(diff_chars_eng)==0) and (len(diff_chars_ita)==0)\n",
        "    return unique_char_value and shape_value\n",
        "\n",
        "grader_1(data)"
      ],
      "execution_count": null,
      "outputs": [
        {
          "output_type": "execute_result",
          "data": {
            "text/plain": [
              "False"
            ]
          },
          "metadata": {
            "tags": []
          },
          "execution_count": 25
        }
      ]
    },
    {
      "cell_type": "markdown",
      "metadata": {
        "id": "xT2R3D6MREOp"
      },
      "source": [
        "### Creating embeddings for english sentences"
      ]
    },
    {
      "cell_type": "code",
      "metadata": {
        "id": "olaKF9rb_zz1"
      },
      "source": [
        "embeddings_index = dict()\n",
        "f = open('glove.6B.100d.txt')\n",
        "for line in f:\n",
        "    values = line.split()\n",
        "    word = values[0]\n",
        "    coefs = np.asarray(values[1:], dtype='float32')\n",
        "    embeddings_index[word] = coefs\n",
        "f.close()\n",
        "\n",
        "embedding_matrix = np.zeros((vocab_size_eng+1, 100))\n",
        "for word, i in tknizer_eng.word_index.items():\n",
        "    embedding_vector = embeddings_index.get(word)\n",
        "    if embedding_vector is not None:\n",
        "        embedding_matrix[i] = embedding_vector"
      ],
      "execution_count": null,
      "outputs": []
    },
    {
      "cell_type": "code",
      "metadata": {
        "id": "tuu2ypFSeYD9"
      },
      "source": [
        "class Encoder(tf.keras.Model):\n",
        "    def __init__(self,inp_vocab_size,embedding_size,lstm_size,input_length):\n",
        "        super().__init__()\n",
        "        self.inp_vocab_size=inp_vocab_size\n",
        "        self.embedding_size=embedding_size\n",
        "        self.lstm_size=lstm_size\n",
        "        self.input_length=input_length\n",
        "        self.lstm_output = 0\n",
        "        self.lstm_state_h=0\n",
        "        self.lstm_state_c=0\n",
        "    def build(self, input_shape):\n",
        "        self.embedding = Embedding(input_dim=self.inp_vocab_size, output_dim=self.embedding_size, input_length=self.input_length, name=\"embedding_layer_encoder\")\n",
        "        self.masking=Masking(mask_value=0)\n",
        "        self.lstm = LSTM(self.lstm_size, return_state=True, name=\"Encoder_LSTM\")\n",
        "    def call(self,input_sequence,training=True):\n",
        "        input_embedd = self.embedding(input_sequence)\n",
        "        input_embedd=self.masking(input_embedd)\n",
        "        self.lstm_output, self.lstm_state_h,self.lstm_state_c = self.lstm(input_embedd)\n",
        "        return self.lstm_output, self.lstm_state_h,self.lstm_state_c\n",
        "        \n",
        "    def get_states(self):\n",
        "        return self.lstm_state_h,self.lstm_state_c"
      ],
      "execution_count": null,
      "outputs": []
    },
    {
      "cell_type": "code",
      "metadata": {
        "id": "lnRUKE2xeYEA"
      },
      "source": [
        "class Decoder(tf.keras.Model):\n",
        "    def __init__(self,out_vocab_size,embedding_size,lstm_size,input_length):\n",
        "        super().__init__()\n",
        "        self.out_vocab_size=out_vocab_size\n",
        "        self.embedding_size=embedding_size\n",
        "        self.lstm_size=lstm_size\n",
        "        self.input_length=input_length\n",
        "    def build(self, input_shape):\n",
        "        self.embedding = Embedding(input_dim=self.out_vocab_size, output_dim=self.embedding_size, input_length=None,\n",
        "                           name=\"embedding_layer_decoder\",weights=[embedding_matrix], trainable=False)\n",
        "        self.masking=Masking(mask_value=0)\n",
        "        self.lstm = LSTM(self.lstm_size, return_state=True, return_sequences=True, name=\"Decoder_LSTM\")\n",
        "    def call(self,target_sentances,state_h,state_c):\n",
        "        #print(\"DECODER ==> IN PUT SQUENCES SHAPE :\",target_sentances.shape)\n",
        "        target_embedd           = self.embedding(target_sentances)\n",
        "        target_embedd=self.masking(target_embedd)\n",
        "        #print(\"WE ARE INITIALIZING DECODER WITH ENCODER STATES :\",state_h.shape, state_c.shape)\n",
        "        lstm_output,dec_h,dec_c       = self.lstm(target_embedd, initial_state=[state_h, state_c])\n",
        "        return lstm_output,dec_h,dec_c"
      ],
      "execution_count": null,
      "outputs": []
    },
    {
      "cell_type": "code",
      "metadata": {
        "id": "9i_U9QEPeYEE"
      },
      "source": [
        "class Encoder_decoder(tf.keras.Model):\n",
        "    def __init__(self,encoder_input_length,decoder_input_length,output_vocabsize):\n",
        "        super().__init__()\n",
        "        self.encoder = Encoder(inp_vocab_size=vocab_size_ita+1,embedding_size=100,input_length=encoder_input_length, lstm_size=256)\n",
        "        self.decoder = Decoder(out_vocab_size=vocab_size_eng+1, embedding_size=100, input_length=decoder_input_length, lstm_size=256)\n",
        "        self.dense   = TimeDistributed(Dense(units=output_vocabsize+1,activation=\"softmax\")    )\n",
        "    def call(self, data):\n",
        "        input,output = data[0], data[1]\n",
        "        #print(\"=\"*20, \"ENCODER\", \"=\"*20)\n",
        "        encoder_output, encoder_h, encoder_c = self.encoder(input)\n",
        "        decoder_output                       = self.decoder(output, encoder_h, encoder_c)[0]\n",
        "        output                               = self.dense(decoder_output)\n",
        "        return output    "
      ],
      "execution_count": null,
      "outputs": []
    },
    {
      "cell_type": "code",
      "metadata": {
        "id": "Nd4mzAA5eYEH",
        "colab": {
          "base_uri": "https://localhost:8080/"
        },
        "outputId": "c94d8b34-86ca-4a52-a68f-293cc45cc1eb"
      },
      "source": [
        "embedding_matrix.shape"
      ],
      "execution_count": null,
      "outputs": [
        {
          "output_type": "execute_result",
          "data": {
            "text/plain": [
              "(12777, 100)"
            ]
          },
          "metadata": {
            "tags": []
          },
          "execution_count": 77
        }
      ]
    },
    {
      "cell_type": "code",
      "metadata": {
        "id": "1Fc-Dv9ueYEL"
      },
      "source": [
        "class Dataset:\n",
        "    def __init__(self, data, tknizer_ita, tknizer_eng, max_len):\n",
        "        self.encoder_inps = data['italian'].values\n",
        "        self.decoder_inps = data['english_inp'].values\n",
        "        self.decoder_outs = data['english_out'].values\n",
        "        self.tknizer_eng = tknizer_eng\n",
        "        self.tknizer_ita = tknizer_ita\n",
        "        self.max_len = max_len\n",
        "\n",
        "    def __getitem__(self, i):\n",
        "        self.encoder_seq = self.tknizer_ita.texts_to_sequences([self.encoder_inps[i]]) # need to pass list of values\n",
        "        self.decoder_inp_seq = self.tknizer_eng.texts_to_sequences([self.decoder_inps[i]])\n",
        "        self.decoder_out_seq = self.tknizer_eng.texts_to_sequences([self.decoder_outs[i]])\n",
        "\n",
        "        self.encoder_seq = pad_sequences(self.encoder_seq, maxlen=self.max_len, dtype='int32', padding='post')\n",
        "        self.decoder_inp_seq = pad_sequences(self.decoder_inp_seq, maxlen=self.max_len, dtype='int32', padding='post')\n",
        "        self.decoder_out_seq = pad_sequences(self.decoder_out_seq, maxlen=self.max_len, dtype='int32', padding='post')\n",
        "        return self.encoder_seq, self.decoder_inp_seq, self.decoder_out_seq\n",
        "\n",
        "    def __len__(self): # your model.fit_gen requires this function\n",
        "        return len(self.encoder_inps)\n",
        "\n",
        "    \n",
        "class Dataloder(tf.keras.utils.Sequence):    \n",
        "    def __init__(self, dataset, batch_size=1):\n",
        "        self.dataset = dataset\n",
        "        self.batch_size = batch_size\n",
        "        self.indexes = np.arange(len(self.dataset.encoder_inps))\n",
        "\n",
        "\n",
        "    def __getitem__(self, i):\n",
        "        start = i * self.batch_size\n",
        "        stop = (i + 1) * self.batch_size\n",
        "        data = []\n",
        "        for j in range(start, stop):\n",
        "            data.append(self.dataset[j])\n",
        "\n",
        "        batch = [np.squeeze(np.stack(samples, axis=1), axis=0) for samples in zip(*data)]\n",
        "        # we are creating data like ([italian, english_inp], english_out) these are already converted into seq\n",
        "        return tuple([[batch[0],batch[1]],batch[2]])\n",
        "\n",
        "    def __len__(self):  # your model.fit_gen requires this function\n",
        "        return len(self.indexes) // self.batch_size\n",
        "\n",
        "    def on_epoch_end(self):\n",
        "        self.indexes = np.random.permutation(self.indexes)"
      ],
      "execution_count": null,
      "outputs": []
    },
    {
      "cell_type": "code",
      "metadata": {
        "id": "4pJIHRGHeYEN",
        "colab": {
          "base_uri": "https://localhost:8080/"
        },
        "outputId": "41e10808-aacc-4ea4-e086-3f5140b214e1"
      },
      "source": [
        "train_dataset = Dataset(data, tknizer_ita, tknizer_eng, 20)\n",
        "\n",
        "test_dataset  = Dataset(validation, tknizer_ita, tknizer_eng, 20)\n",
        "\n",
        "train_dataloader = Dataloder(train_dataset, batch_size=1024)\n",
        "test_dataloader = Dataloder(test_dataset, batch_size=1024)\n",
        "\n",
        "\n",
        "print(train_dataloader[0][0][0].shape, train_dataloader[0][0][1].shape, train_dataloader[0][1].shape)"
      ],
      "execution_count": null,
      "outputs": [
        {
          "output_type": "stream",
          "text": [
            "(1024, 20) (1024, 20) (1024, 20)\n"
          ],
          "name": "stdout"
        }
      ]
    },
    {
      "cell_type": "code",
      "metadata": {
        "id": "ZnVcvt48eYET",
        "colab": {
          "base_uri": "https://localhost:8080/"
        },
        "outputId": "9bad5d3b-c1a9-43ea-c052-3aec0ac7b813"
      },
      "source": [
        "vocab_size_eng"
      ],
      "execution_count": null,
      "outputs": [
        {
          "output_type": "execute_result",
          "data": {
            "text/plain": [
              "12776"
            ]
          },
          "metadata": {
            "tags": []
          },
          "execution_count": 89
        }
      ]
    },
    {
      "cell_type": "markdown",
      "metadata": {
        "id": "gn8eD59Ga_Dp"
      },
      "source": [
        "### Callbacks\n"
      ]
    },
    {
      "cell_type": "code",
      "metadata": {
        "id": "Fs5NuPDobCox"
      },
      "source": [
        "#earlystopping\n",
        "import numpy as np\n",
        "\n",
        "\n",
        "class EarlyStoppingAtMinLoss(tf.keras.callbacks.Callback):\n",
        "    \"\"\"Stop training when the loss is at its min, i.e. the loss stops decreasing.\n",
        "\n",
        "  Arguments:\n",
        "      patience: Number of epochs to wait after min has been hit. After this\n",
        "      number of no improvement, training stops.\n",
        "  \"\"\"\n",
        "\n",
        "    def __init__(self, patience=3):\n",
        "        super(EarlyStoppingAtMinLoss, self).__init__()\n",
        "        self.patience = patience\n",
        "        # best_weights to store the weights at which the minimum loss occurs.\n",
        "        self.best_weights = None\n",
        "\n",
        "    def on_train_begin(self, logs=None):\n",
        "        # The number of epoch it has waited when loss is no longer minimum.\n",
        "        self.wait = 0\n",
        "        # The epoch the training stops at.\n",
        "        self.stopped_epoch = 0\n",
        "        # Initialize the best as infinity.\n",
        "        #self.best = np.Inf\n",
        "\n",
        "    def on_epoch_end(self, epoch, logs=None):\n",
        "        current_loss = logs.get(\"loss\")\n",
        "        current_valloss = logs.get(\"val_loss\")\n",
        "        if np.less(current_valloss,current_loss):\n",
        "            #self.best = current\n",
        "            self.wait = 0\n",
        "            # Record the best weights if current results is better (less).\n",
        "            self.best_weights = self.model.get_weights()\n",
        "        else:\n",
        "            self.wait += 1\n",
        "            if self.wait >= self.patience:\n",
        "                self.stopped_epoch = epoch\n",
        "                self.model.stop_training = True\n",
        "                print(\"Restoring model weights from the end of the best epoch.\")\n",
        "                self.model.set_weights(self.best_weights)\n",
        "\n",
        "    def on_train_end(self, logs=None):\n",
        "        if self.stopped_epoch > 0:\n",
        "            print(\"Epoch %05d: early stopping\" % (self.stopped_epoch + 1))\n",
        "\n",
        "\n"
      ],
      "execution_count": null,
      "outputs": []
    },
    {
      "cell_type": "code",
      "metadata": {
        "id": "rh03kABXeYEW",
        "colab": {
          "base_uri": "https://localhost:8080/"
        },
        "outputId": "9c1ed0de-047a-467d-a9c1-bd0346136895"
      },
      "source": [
        "model  = Encoder_decoder(encoder_input_length=20,decoder_input_length=None,output_vocabsize=vocab_size_eng)\n",
        "optimizer = tf.keras.optimizers.Adam()\n",
        "model.compile(optimizer=optimizer,loss='sparse_categorical_crossentropy')\n",
        "train_steps=train.shape[0]//10210\n",
        "valid_steps=validation.shape[0]//1024\n",
        "history=model.fit(train_dataloader, steps_per_epoch=train_steps, epochs=500, validation_data=test_dataloader, validation_steps=valid_steps,verbose=1)\n",
        "model.summary()"
      ],
      "execution_count": null,
      "outputs": [
        {
          "output_type": "stream",
          "text": [
            "Epoch 1/500\n",
            "26/26 [==============================] - 25s 978ms/step - loss: 1.9092 - val_loss: 1.6525\n",
            "Epoch 2/500\n",
            "26/26 [==============================] - 23s 896ms/step - loss: 1.3779 - val_loss: 1.6272\n",
            "Epoch 3/500\n",
            "26/26 [==============================] - 23s 885ms/step - loss: 1.4408 - val_loss: 1.6047\n",
            "Epoch 4/500\n",
            "26/26 [==============================] - 23s 887ms/step - loss: 1.6113 - val_loss: 1.5855\n",
            "Epoch 5/500\n",
            "26/26 [==============================] - 23s 892ms/step - loss: 1.4992 - val_loss: 1.5936\n",
            "Epoch 6/500\n",
            "26/26 [==============================] - 23s 892ms/step - loss: 1.6057 - val_loss: 1.5631\n",
            "Epoch 7/500\n",
            "26/26 [==============================] - 23s 891ms/step - loss: 1.5797 - val_loss: 1.5600\n",
            "Epoch 8/500\n",
            "26/26 [==============================] - 23s 890ms/step - loss: 1.6742 - val_loss: 1.5388\n",
            "Epoch 9/500\n",
            "26/26 [==============================] - 23s 897ms/step - loss: 1.4862 - val_loss: 1.5362\n",
            "Epoch 10/500\n",
            "26/26 [==============================] - 23s 889ms/step - loss: 1.5572 - val_loss: 1.5142\n",
            "Epoch 11/500\n",
            "26/26 [==============================] - 23s 894ms/step - loss: 1.4492 - val_loss: 1.5022\n",
            "Epoch 12/500\n",
            "26/26 [==============================] - 23s 892ms/step - loss: 1.6059 - val_loss: 1.4953\n",
            "Epoch 13/500\n",
            "26/26 [==============================] - 23s 896ms/step - loss: 1.4786 - val_loss: 1.4671\n",
            "Epoch 14/500\n",
            "26/26 [==============================] - 23s 901ms/step - loss: 1.4962 - val_loss: 1.4531\n",
            "Epoch 15/500\n",
            "26/26 [==============================] - 23s 902ms/step - loss: 1.2629 - val_loss: 1.4443\n",
            "Epoch 16/500\n",
            "26/26 [==============================] - 23s 894ms/step - loss: 1.3178 - val_loss: 1.4420\n",
            "Epoch 17/500\n",
            "26/26 [==============================] - 23s 887ms/step - loss: 1.2369 - val_loss: 1.4195\n",
            "Epoch 18/500\n",
            "26/26 [==============================] - 23s 894ms/step - loss: 1.4470 - val_loss: 1.4102\n",
            "Epoch 19/500\n",
            "26/26 [==============================] - 23s 895ms/step - loss: 1.3293 - val_loss: 1.3917\n",
            "Epoch 20/500\n",
            "26/26 [==============================] - 23s 891ms/step - loss: 1.2433 - val_loss: 1.3787\n",
            "Epoch 21/500\n",
            "26/26 [==============================] - 23s 886ms/step - loss: 1.4119 - val_loss: 1.3710\n",
            "Epoch 22/500\n",
            "26/26 [==============================] - 23s 896ms/step - loss: 1.4635 - val_loss: 1.3579\n",
            "Epoch 23/500\n",
            "26/26 [==============================] - 23s 894ms/step - loss: 1.4165 - val_loss: 1.3506\n",
            "Epoch 24/500\n",
            "26/26 [==============================] - 23s 888ms/step - loss: 1.2455 - val_loss: 1.3425\n",
            "Epoch 25/500\n",
            "26/26 [==============================] - 23s 891ms/step - loss: 1.3706 - val_loss: 1.3283\n",
            "Epoch 26/500\n",
            "26/26 [==============================] - 23s 895ms/step - loss: 1.3580 - val_loss: 1.3245\n",
            "Epoch 27/500\n",
            "26/26 [==============================] - 23s 891ms/step - loss: 1.2434 - val_loss: 1.3129\n",
            "Epoch 28/500\n",
            "26/26 [==============================] - 23s 891ms/step - loss: 1.2336 - val_loss: 1.3003\n",
            "Epoch 29/500\n",
            "26/26 [==============================] - 23s 888ms/step - loss: 1.1661 - val_loss: 1.3002\n",
            "Epoch 30/500\n",
            "26/26 [==============================] - 23s 894ms/step - loss: 1.3619 - val_loss: 1.2889\n",
            "Epoch 31/500\n",
            "26/26 [==============================] - 23s 885ms/step - loss: 1.3576 - val_loss: 1.2748\n",
            "Epoch 32/500\n",
            "26/26 [==============================] - 23s 893ms/step - loss: 1.3311 - val_loss: 1.2703\n",
            "Epoch 33/500\n",
            "26/26 [==============================] - 23s 890ms/step - loss: 1.4455 - val_loss: 1.2699\n",
            "Epoch 34/500\n",
            "26/26 [==============================] - 23s 889ms/step - loss: 1.1050 - val_loss: 1.2596\n",
            "Epoch 35/500\n",
            "26/26 [==============================] - 23s 892ms/step - loss: 1.3126 - val_loss: 1.2480\n",
            "Epoch 36/500\n",
            "26/26 [==============================] - 23s 889ms/step - loss: 1.0997 - val_loss: 1.2445\n",
            "Epoch 37/500\n",
            "26/26 [==============================] - 23s 890ms/step - loss: 1.0684 - val_loss: 1.2392\n",
            "Epoch 38/500\n",
            "26/26 [==============================] - 23s 892ms/step - loss: 1.2014 - val_loss: 1.2267\n",
            "Epoch 39/500\n",
            "26/26 [==============================] - 23s 895ms/step - loss: 1.1999 - val_loss: 1.2169\n",
            "Epoch 40/500\n",
            "26/26 [==============================] - 23s 886ms/step - loss: 1.2594 - val_loss: 1.2106\n",
            "Epoch 41/500\n",
            "26/26 [==============================] - 23s 893ms/step - loss: 1.0952 - val_loss: 1.2041\n",
            "Epoch 42/500\n",
            "26/26 [==============================] - 23s 891ms/step - loss: 1.4863 - val_loss: 1.2025\n",
            "Epoch 43/500\n",
            "26/26 [==============================] - 23s 893ms/step - loss: 1.1602 - val_loss: 1.1893\n",
            "Epoch 44/500\n",
            "26/26 [==============================] - 23s 895ms/step - loss: 0.9868 - val_loss: 1.1998\n",
            "Epoch 45/500\n",
            "26/26 [==============================] - 23s 887ms/step - loss: 1.2486 - val_loss: 1.1791\n",
            "Epoch 46/500\n",
            "26/26 [==============================] - 23s 898ms/step - loss: 1.4088 - val_loss: 1.1786\n",
            "Epoch 47/500\n",
            "26/26 [==============================] - 23s 891ms/step - loss: 1.3260 - val_loss: 1.1638\n",
            "Epoch 48/500\n",
            "26/26 [==============================] - 23s 893ms/step - loss: 1.1435 - val_loss: 1.1722\n",
            "Epoch 49/500\n",
            "26/26 [==============================] - 24s 908ms/step - loss: 1.1502 - val_loss: 1.1621\n",
            "Epoch 50/500\n",
            "26/26 [==============================] - 23s 889ms/step - loss: 0.9576 - val_loss: 1.1717\n",
            "Epoch 51/500\n",
            "26/26 [==============================] - 23s 888ms/step - loss: 1.3111 - val_loss: 1.1666\n",
            "Epoch 52/500\n",
            "26/26 [==============================] - 23s 894ms/step - loss: 1.0499 - val_loss: 1.1367\n",
            "Epoch 53/500\n",
            "26/26 [==============================] - 23s 896ms/step - loss: 1.0522 - val_loss: 1.1318\n",
            "Epoch 54/500\n",
            "26/26 [==============================] - 23s 892ms/step - loss: 1.0924 - val_loss: 1.1225\n",
            "Epoch 55/500\n",
            "26/26 [==============================] - 23s 894ms/step - loss: 1.0441 - val_loss: 1.1281\n",
            "Epoch 56/500\n",
            "26/26 [==============================] - 23s 894ms/step - loss: 1.2540 - val_loss: 1.1104\n",
            "Epoch 57/500\n",
            "26/26 [==============================] - 23s 895ms/step - loss: 1.0189 - val_loss: 1.1051\n",
            "Epoch 58/500\n",
            "26/26 [==============================] - 23s 890ms/step - loss: 0.9649 - val_loss: 1.0997\n",
            "Epoch 59/500\n",
            "26/26 [==============================] - 23s 892ms/step - loss: 1.0134 - val_loss: 1.0967\n",
            "Epoch 60/500\n",
            "26/26 [==============================] - 23s 893ms/step - loss: 1.1661 - val_loss: 1.0904\n",
            "Epoch 61/500\n",
            "26/26 [==============================] - 23s 890ms/step - loss: 1.0087 - val_loss: 1.0829\n",
            "Epoch 62/500\n",
            "26/26 [==============================] - 23s 892ms/step - loss: 1.1062 - val_loss: 1.0748\n",
            "Epoch 63/500\n",
            "26/26 [==============================] - 23s 889ms/step - loss: 0.9456 - val_loss: 1.0756\n",
            "Epoch 64/500\n",
            "26/26 [==============================] - 23s 888ms/step - loss: 1.0852 - val_loss: 1.0799\n",
            "Epoch 65/500\n",
            "26/26 [==============================] - 23s 890ms/step - loss: 1.1032 - val_loss: 1.0575\n",
            "Epoch 66/500\n",
            "26/26 [==============================] - 23s 894ms/step - loss: 1.0018 - val_loss: 1.0594\n",
            "Epoch 67/500\n",
            "26/26 [==============================] - 23s 888ms/step - loss: 1.0165 - val_loss: 1.0485\n",
            "Epoch 68/500\n",
            "26/26 [==============================] - 23s 889ms/step - loss: 0.9481 - val_loss: 1.0408\n",
            "Epoch 69/500\n",
            "26/26 [==============================] - 23s 892ms/step - loss: 1.1318 - val_loss: 1.0396\n",
            "Epoch 70/500\n",
            "26/26 [==============================] - 23s 887ms/step - loss: 1.1953 - val_loss: 1.0347\n",
            "Epoch 71/500\n",
            "26/26 [==============================] - 23s 891ms/step - loss: 1.1230 - val_loss: 1.0273\n",
            "Epoch 72/500\n",
            "26/26 [==============================] - 23s 893ms/step - loss: 0.9657 - val_loss: 1.0140\n",
            "Epoch 73/500\n",
            "26/26 [==============================] - 23s 890ms/step - loss: 1.0516 - val_loss: 1.0084\n",
            "Epoch 74/500\n",
            "26/26 [==============================] - 23s 897ms/step - loss: 1.1548 - val_loss: 1.0108\n",
            "Epoch 75/500\n",
            "26/26 [==============================] - 23s 893ms/step - loss: 1.0654 - val_loss: 1.0050\n",
            "Epoch 76/500\n",
            "26/26 [==============================] - 23s 891ms/step - loss: 0.9175 - val_loss: 0.9891\n",
            "Epoch 77/500\n",
            "26/26 [==============================] - 23s 893ms/step - loss: 0.9889 - val_loss: 0.9820\n",
            "Epoch 78/500\n",
            "26/26 [==============================] - 23s 896ms/step - loss: 1.0554 - val_loss: 0.9750\n",
            "Epoch 79/500\n",
            "26/26 [==============================] - 23s 891ms/step - loss: 0.9484 - val_loss: 0.9752\n",
            "Epoch 80/500\n",
            "26/26 [==============================] - 23s 889ms/step - loss: 0.9845 - val_loss: 0.9745\n",
            "Epoch 81/500\n",
            "26/26 [==============================] - 23s 889ms/step - loss: 0.9324 - val_loss: 0.9567\n",
            "Epoch 82/500\n",
            "26/26 [==============================] - 23s 890ms/step - loss: 0.9951 - val_loss: 0.9518\n",
            "Epoch 83/500\n",
            "26/26 [==============================] - 23s 893ms/step - loss: 0.9820 - val_loss: 0.9568\n",
            "Epoch 84/500\n",
            "26/26 [==============================] - 23s 901ms/step - loss: 0.9825 - val_loss: 0.9521\n",
            "Epoch 85/500\n",
            "26/26 [==============================] - 23s 886ms/step - loss: 0.9809 - val_loss: 0.9357\n",
            "Epoch 86/500\n",
            "26/26 [==============================] - 23s 889ms/step - loss: 0.9284 - val_loss: 0.9304\n",
            "Epoch 87/500\n",
            "26/26 [==============================] - 23s 883ms/step - loss: 0.9729 - val_loss: 0.9238\n",
            "Epoch 88/500\n",
            "26/26 [==============================] - 23s 893ms/step - loss: 0.8949 - val_loss: 0.9195\n",
            "Epoch 89/500\n",
            "26/26 [==============================] - 23s 899ms/step - loss: 0.9715 - val_loss: 0.9129\n",
            "Epoch 90/500\n",
            "26/26 [==============================] - 23s 894ms/step - loss: 1.0064 - val_loss: 0.9041\n",
            "Epoch 91/500\n",
            "26/26 [==============================] - 23s 885ms/step - loss: 0.8001 - val_loss: 0.8996\n",
            "Epoch 92/500\n",
            "26/26 [==============================] - 23s 886ms/step - loss: 0.8914 - val_loss: 0.8942\n",
            "Epoch 93/500\n",
            "26/26 [==============================] - 23s 892ms/step - loss: 0.9279 - val_loss: 0.8843\n",
            "Epoch 94/500\n",
            "26/26 [==============================] - 23s 881ms/step - loss: 0.9232 - val_loss: 0.8770\n",
            "Epoch 95/500\n",
            "26/26 [==============================] - 23s 893ms/step - loss: 0.8994 - val_loss: 0.8744\n",
            "Epoch 96/500\n",
            "26/26 [==============================] - 23s 889ms/step - loss: 0.8379 - val_loss: 0.8783\n",
            "Epoch 97/500\n",
            "26/26 [==============================] - 23s 887ms/step - loss: 0.7283 - val_loss: 0.8650\n",
            "Epoch 98/500\n",
            "26/26 [==============================] - 23s 884ms/step - loss: 0.8191 - val_loss: 0.8557\n",
            "Epoch 99/500\n",
            "26/26 [==============================] - 23s 892ms/step - loss: 0.8209 - val_loss: 0.8470\n",
            "Epoch 100/500\n",
            "26/26 [==============================] - 23s 892ms/step - loss: 0.7916 - val_loss: 0.8422\n",
            "Epoch 101/500\n",
            "26/26 [==============================] - 23s 891ms/step - loss: 0.8003 - val_loss: 0.8376\n",
            "Epoch 102/500\n",
            "26/26 [==============================] - 23s 892ms/step - loss: 0.8220 - val_loss: 0.8321\n",
            "Epoch 103/500\n",
            "26/26 [==============================] - 23s 892ms/step - loss: 0.8980 - val_loss: 0.8202\n",
            "Epoch 104/500\n",
            "26/26 [==============================] - 23s 896ms/step - loss: 0.8321 - val_loss: 0.8153\n",
            "Epoch 105/500\n",
            "26/26 [==============================] - 23s 898ms/step - loss: 0.8707 - val_loss: 0.8099\n",
            "Epoch 106/500\n",
            "26/26 [==============================] - 23s 892ms/step - loss: 0.8221 - val_loss: 0.8036\n",
            "Epoch 107/500\n",
            "26/26 [==============================] - 23s 889ms/step - loss: 0.9400 - val_loss: 0.8016\n",
            "Epoch 108/500\n",
            "26/26 [==============================] - 23s 879ms/step - loss: 0.7198 - val_loss: 0.7922\n",
            "Epoch 109/500\n",
            "26/26 [==============================] - 23s 887ms/step - loss: 0.8858 - val_loss: 0.7872\n",
            "Epoch 110/500\n",
            "26/26 [==============================] - 23s 891ms/step - loss: 0.8061 - val_loss: 0.7814\n",
            "Epoch 111/500\n",
            "26/26 [==============================] - 23s 895ms/step - loss: 0.7488 - val_loss: 0.7763\n",
            "Epoch 112/500\n",
            "26/26 [==============================] - 23s 889ms/step - loss: 0.9455 - val_loss: 0.7719\n",
            "Epoch 113/500\n",
            "26/26 [==============================] - 23s 890ms/step - loss: 0.7454 - val_loss: 0.7601\n",
            "Epoch 114/500\n",
            "26/26 [==============================] - 23s 892ms/step - loss: 0.7870 - val_loss: 0.7555\n",
            "Epoch 115/500\n",
            "26/26 [==============================] - 23s 889ms/step - loss: 0.8409 - val_loss: 0.7481\n",
            "Epoch 116/500\n",
            "26/26 [==============================] - 23s 890ms/step - loss: 0.6724 - val_loss: 0.7436\n",
            "Epoch 117/500\n",
            "26/26 [==============================] - 23s 896ms/step - loss: 0.8228 - val_loss: 0.7374\n",
            "Epoch 118/500\n",
            "26/26 [==============================] - 24s 906ms/step - loss: 0.6826 - val_loss: 0.7327\n",
            "Epoch 119/500\n",
            "26/26 [==============================] - 23s 890ms/step - loss: 0.7378 - val_loss: 0.7239\n",
            "Epoch 120/500\n",
            "26/26 [==============================] - 23s 891ms/step - loss: 0.7137 - val_loss: 0.7238\n",
            "Epoch 121/500\n",
            "26/26 [==============================] - 23s 886ms/step - loss: 0.6238 - val_loss: 0.7190\n",
            "Epoch 122/500\n",
            "26/26 [==============================] - 23s 893ms/step - loss: 0.8580 - val_loss: 0.7145\n",
            "Epoch 123/500\n",
            "26/26 [==============================] - 23s 890ms/step - loss: 0.8080 - val_loss: 0.7118\n",
            "Epoch 124/500\n",
            "26/26 [==============================] - 23s 890ms/step - loss: 0.6601 - val_loss: 0.7002\n",
            "Epoch 125/500\n",
            "26/26 [==============================] - 23s 889ms/step - loss: 0.8254 - val_loss: 0.6944\n",
            "Epoch 126/500\n",
            "26/26 [==============================] - 23s 884ms/step - loss: 0.6633 - val_loss: 0.6860\n",
            "Epoch 127/500\n",
            "26/26 [==============================] - 23s 885ms/step - loss: 0.7133 - val_loss: 0.6804\n",
            "Epoch 128/500\n",
            "26/26 [==============================] - 23s 891ms/step - loss: 0.7227 - val_loss: 0.6737\n",
            "Epoch 129/500\n",
            "26/26 [==============================] - 23s 887ms/step - loss: 0.5983 - val_loss: 0.6729\n",
            "Epoch 130/500\n",
            "26/26 [==============================] - 23s 890ms/step - loss: 0.6579 - val_loss: 0.6627\n",
            "Epoch 131/500\n",
            "26/26 [==============================] - 23s 893ms/step - loss: 0.7606 - val_loss: 0.6585\n",
            "Epoch 132/500\n",
            "26/26 [==============================] - 23s 893ms/step - loss: 0.6263 - val_loss: 0.6570\n",
            "Epoch 133/500\n",
            "26/26 [==============================] - 23s 888ms/step - loss: 0.4693 - val_loss: 0.6505\n",
            "Epoch 134/500\n",
            "26/26 [==============================] - 23s 892ms/step - loss: 0.5440 - val_loss: 0.6455\n",
            "Epoch 135/500\n",
            "26/26 [==============================] - 23s 892ms/step - loss: 0.5324 - val_loss: 0.6376\n",
            "Epoch 136/500\n",
            "26/26 [==============================] - 23s 892ms/step - loss: 0.6260 - val_loss: 0.6345\n",
            "Epoch 137/500\n",
            "26/26 [==============================] - 23s 895ms/step - loss: 0.6712 - val_loss: 0.6320\n",
            "Epoch 138/500\n",
            "26/26 [==============================] - 23s 891ms/step - loss: 0.6571 - val_loss: 0.6200\n",
            "Epoch 139/500\n",
            "26/26 [==============================] - 23s 895ms/step - loss: 0.6557 - val_loss: 0.6198\n",
            "Epoch 140/500\n",
            "26/26 [==============================] - 23s 888ms/step - loss: 0.5545 - val_loss: 0.6182\n",
            "Epoch 141/500\n",
            "26/26 [==============================] - 23s 887ms/step - loss: 0.5983 - val_loss: 0.6114\n",
            "Epoch 142/500\n",
            "26/26 [==============================] - 23s 894ms/step - loss: 0.6290 - val_loss: 0.6010\n",
            "Epoch 143/500\n",
            "26/26 [==============================] - 23s 885ms/step - loss: 0.6218 - val_loss: 0.6007\n",
            "Epoch 144/500\n",
            "26/26 [==============================] - 23s 894ms/step - loss: 0.5996 - val_loss: 0.5927\n",
            "Epoch 145/500\n",
            "26/26 [==============================] - 23s 889ms/step - loss: 0.6257 - val_loss: 0.5986\n",
            "Epoch 146/500\n",
            "26/26 [==============================] - 23s 890ms/step - loss: 0.5699 - val_loss: 0.5922\n",
            "Epoch 147/500\n",
            "26/26 [==============================] - 23s 893ms/step - loss: 0.5754 - val_loss: 0.5807\n",
            "Epoch 148/500\n",
            "26/26 [==============================] - 23s 889ms/step - loss: 0.5829 - val_loss: 0.5810\n",
            "Epoch 149/500\n",
            "26/26 [==============================] - 23s 892ms/step - loss: 0.6723 - val_loss: 0.5688\n",
            "Epoch 150/500\n",
            "26/26 [==============================] - 23s 895ms/step - loss: 0.5409 - val_loss: 0.5634\n",
            "Epoch 151/500\n",
            "26/26 [==============================] - 23s 893ms/step - loss: 0.5803 - val_loss: 0.5576\n",
            "Epoch 152/500\n",
            "26/26 [==============================] - 23s 900ms/step - loss: 0.5996 - val_loss: 0.5682\n",
            "Epoch 153/500\n",
            "26/26 [==============================] - 23s 889ms/step - loss: 0.4521 - val_loss: 0.5508\n",
            "Epoch 154/500\n",
            "26/26 [==============================] - 23s 896ms/step - loss: 0.4775 - val_loss: 0.5447\n",
            "Epoch 155/500\n",
            "26/26 [==============================] - 23s 887ms/step - loss: 0.5544 - val_loss: 0.5473\n",
            "Epoch 156/500\n",
            "26/26 [==============================] - 23s 884ms/step - loss: 0.5167 - val_loss: 0.5416\n",
            "Epoch 157/500\n",
            "26/26 [==============================] - 23s 886ms/step - loss: 0.4822 - val_loss: 0.5372\n",
            "Epoch 158/500\n",
            "26/26 [==============================] - 23s 892ms/step - loss: 0.5211 - val_loss: 0.5274\n",
            "Epoch 159/500\n",
            "26/26 [==============================] - 23s 888ms/step - loss: 0.6148 - val_loss: 0.5508\n",
            "Epoch 160/500\n",
            "26/26 [==============================] - 23s 883ms/step - loss: 0.5619 - val_loss: 0.5215\n",
            "Epoch 161/500\n",
            "26/26 [==============================] - 23s 888ms/step - loss: 0.4405 - val_loss: 0.5116\n",
            "Epoch 162/500\n",
            "26/26 [==============================] - 23s 889ms/step - loss: 0.4492 - val_loss: 0.5089\n",
            "Epoch 163/500\n",
            "26/26 [==============================] - 23s 888ms/step - loss: 0.4608 - val_loss: 0.5051\n",
            "Epoch 164/500\n",
            "26/26 [==============================] - 23s 889ms/step - loss: 0.5143 - val_loss: 0.5029\n",
            "Epoch 165/500\n",
            "26/26 [==============================] - 23s 891ms/step - loss: 0.5286 - val_loss: 0.4945\n",
            "Epoch 166/500\n",
            "26/26 [==============================] - 23s 888ms/step - loss: 0.4346 - val_loss: 0.4902\n",
            "Epoch 167/500\n",
            "26/26 [==============================] - 23s 892ms/step - loss: 0.4218 - val_loss: 0.4844\n",
            "Epoch 168/500\n",
            "26/26 [==============================] - 23s 893ms/step - loss: 0.3957 - val_loss: 0.4831\n",
            "Epoch 169/500\n",
            "26/26 [==============================] - 23s 896ms/step - loss: 0.4959 - val_loss: 0.4843\n",
            "Epoch 170/500\n",
            "26/26 [==============================] - 23s 883ms/step - loss: 0.5412 - val_loss: 0.4860\n",
            "Epoch 171/500\n",
            "26/26 [==============================] - 23s 888ms/step - loss: 0.4447 - val_loss: 0.4741\n",
            "Epoch 172/500\n",
            "26/26 [==============================] - 23s 889ms/step - loss: 0.4764 - val_loss: 0.4698\n",
            "Epoch 173/500\n",
            "26/26 [==============================] - 23s 889ms/step - loss: 0.5202 - val_loss: 0.4638\n",
            "Epoch 174/500\n",
            "26/26 [==============================] - 23s 889ms/step - loss: 0.4165 - val_loss: 0.4637\n",
            "Epoch 175/500\n",
            "26/26 [==============================] - 23s 890ms/step - loss: 0.5256 - val_loss: 0.4561\n",
            "Epoch 176/500\n",
            "26/26 [==============================] - 23s 895ms/step - loss: 0.4457 - val_loss: 0.4541\n",
            "Epoch 177/500\n",
            "26/26 [==============================] - 23s 890ms/step - loss: 0.3974 - val_loss: 0.4498\n",
            "Epoch 178/500\n",
            "26/26 [==============================] - 23s 890ms/step - loss: 0.4864 - val_loss: 0.4439\n",
            "Epoch 179/500\n",
            "26/26 [==============================] - 23s 890ms/step - loss: 0.3679 - val_loss: 0.4417\n",
            "Epoch 180/500\n",
            "26/26 [==============================] - 23s 887ms/step - loss: 0.3543 - val_loss: 0.4419\n",
            "Epoch 181/500\n",
            "26/26 [==============================] - 23s 886ms/step - loss: 0.3910 - val_loss: 0.4429\n",
            "Epoch 182/500\n",
            "26/26 [==============================] - 23s 888ms/step - loss: 0.3913 - val_loss: 0.4401\n",
            "Epoch 183/500\n",
            "26/26 [==============================] - 23s 884ms/step - loss: 0.4049 - val_loss: 0.4270\n",
            "Epoch 184/500\n",
            "26/26 [==============================] - 23s 884ms/step - loss: 0.4043 - val_loss: 0.4218\n",
            "Epoch 185/500\n",
            "26/26 [==============================] - 23s 887ms/step - loss: 0.3540 - val_loss: 0.4201\n",
            "Epoch 186/500\n",
            "26/26 [==============================] - 23s 888ms/step - loss: 0.3786 - val_loss: 0.4333\n",
            "Epoch 187/500\n",
            "26/26 [==============================] - 23s 892ms/step - loss: 0.5512 - val_loss: 0.4287\n",
            "Epoch 188/500\n",
            "26/26 [==============================] - 23s 890ms/step - loss: 0.3874 - val_loss: 0.4146\n",
            "Epoch 189/500\n",
            "26/26 [==============================] - 23s 890ms/step - loss: 0.5685 - val_loss: 0.4209\n",
            "Epoch 190/500\n",
            "26/26 [==============================] - 23s 892ms/step - loss: 0.3689 - val_loss: 0.4154\n",
            "Epoch 191/500\n",
            "26/26 [==============================] - 23s 892ms/step - loss: 0.3399 - val_loss: 0.4032\n",
            "Epoch 192/500\n",
            "26/26 [==============================] - 23s 890ms/step - loss: 0.3484 - val_loss: 0.3982\n",
            "Epoch 193/500\n",
            "26/26 [==============================] - 23s 888ms/step - loss: 0.4542 - val_loss: 0.3927\n",
            "Epoch 194/500\n",
            "26/26 [==============================] - 23s 884ms/step - loss: 0.4043 - val_loss: 0.3898\n",
            "Epoch 195/500\n",
            "26/26 [==============================] - 23s 890ms/step - loss: 0.3578 - val_loss: 0.3855\n",
            "Epoch 196/500\n",
            "26/26 [==============================] - 23s 888ms/step - loss: 0.3720 - val_loss: 0.3872\n",
            "Epoch 197/500\n",
            "26/26 [==============================] - 23s 887ms/step - loss: 0.3487 - val_loss: 0.3964\n",
            "Epoch 198/500\n",
            "26/26 [==============================] - 23s 892ms/step - loss: 0.3382 - val_loss: 0.3796\n",
            "Epoch 199/500\n",
            "26/26 [==============================] - 23s 888ms/step - loss: 0.3648 - val_loss: 0.3835\n",
            "Epoch 200/500\n",
            "26/26 [==============================] - 23s 892ms/step - loss: 0.3632 - val_loss: 0.3807\n",
            "Epoch 201/500\n",
            "26/26 [==============================] - 23s 890ms/step - loss: 0.3584 - val_loss: 0.3742\n",
            "Epoch 202/500\n",
            "26/26 [==============================] - 23s 889ms/step - loss: 0.3508 - val_loss: 0.3879\n",
            "Epoch 203/500\n",
            "26/26 [==============================] - 23s 887ms/step - loss: 0.2961 - val_loss: 0.3703\n",
            "Epoch 204/500\n",
            "26/26 [==============================] - 23s 891ms/step - loss: 0.3138 - val_loss: 0.3618\n",
            "Epoch 205/500\n",
            "26/26 [==============================] - 23s 894ms/step - loss: 0.4590 - val_loss: 0.3762\n",
            "Epoch 206/500\n",
            "26/26 [==============================] - 23s 886ms/step - loss: 0.3122 - val_loss: 0.3618\n",
            "Epoch 207/500\n",
            "26/26 [==============================] - 23s 890ms/step - loss: 0.3716 - val_loss: 0.3544\n",
            "Epoch 208/500\n",
            "26/26 [==============================] - 23s 883ms/step - loss: 0.3219 - val_loss: 0.3520\n",
            "Epoch 209/500\n",
            "26/26 [==============================] - 23s 886ms/step - loss: 0.3464 - val_loss: 0.3533\n",
            "Epoch 210/500\n",
            "26/26 [==============================] - 23s 876ms/step - loss: 0.3384 - val_loss: 0.3483\n",
            "Epoch 211/500\n",
            "26/26 [==============================] - 23s 890ms/step - loss: 0.3992 - val_loss: 0.3531\n",
            "Epoch 212/500\n",
            "26/26 [==============================] - 23s 888ms/step - loss: 0.3423 - val_loss: 0.3450\n",
            "Epoch 213/500\n",
            "26/26 [==============================] - 23s 897ms/step - loss: 0.2884 - val_loss: 0.3385\n",
            "Epoch 214/500\n",
            "26/26 [==============================] - 23s 889ms/step - loss: 0.2762 - val_loss: 0.3367\n",
            "Epoch 215/500\n",
            "26/26 [==============================] - 23s 891ms/step - loss: 0.3756 - val_loss: 0.3384\n",
            "Epoch 216/500\n",
            "26/26 [==============================] - 23s 887ms/step - loss: 0.3700 - val_loss: 0.3322\n",
            "Epoch 217/500\n",
            "26/26 [==============================] - 23s 893ms/step - loss: 0.3240 - val_loss: 0.3277\n",
            "Epoch 218/500\n",
            "26/26 [==============================] - 23s 888ms/step - loss: 0.2985 - val_loss: 0.3276\n",
            "Epoch 219/500\n",
            "26/26 [==============================] - 23s 889ms/step - loss: 0.2949 - val_loss: 0.3244\n",
            "Epoch 220/500\n",
            "26/26 [==============================] - 23s 894ms/step - loss: 0.2884 - val_loss: 0.3231\n",
            "Epoch 221/500\n",
            "26/26 [==============================] - 23s 904ms/step - loss: 0.3259 - val_loss: 0.3201\n",
            "Epoch 222/500\n",
            "26/26 [==============================] - 23s 887ms/step - loss: 0.2582 - val_loss: 0.3155\n",
            "Epoch 223/500\n",
            "26/26 [==============================] - 23s 888ms/step - loss: 0.3269 - val_loss: 0.3168\n",
            "Epoch 224/500\n",
            "26/26 [==============================] - 23s 893ms/step - loss: 0.2236 - val_loss: 0.3113\n",
            "Epoch 225/500\n",
            "26/26 [==============================] - 23s 890ms/step - loss: 0.2819 - val_loss: 0.3163\n",
            "Epoch 226/500\n",
            "26/26 [==============================] - 23s 889ms/step - loss: 0.2625 - val_loss: 0.3088\n",
            "Epoch 227/500\n",
            "26/26 [==============================] - 23s 887ms/step - loss: 0.3156 - val_loss: 0.3067\n",
            "Epoch 228/500\n",
            "26/26 [==============================] - 23s 884ms/step - loss: 0.2601 - val_loss: 0.3041\n",
            "Epoch 229/500\n",
            "26/26 [==============================] - 23s 892ms/step - loss: 0.3034 - val_loss: 0.3024\n",
            "Epoch 230/500\n",
            "26/26 [==============================] - 23s 885ms/step - loss: 0.3513 - val_loss: 0.3012\n",
            "Epoch 231/500\n",
            "26/26 [==============================] - 23s 894ms/step - loss: 0.3397 - val_loss: 0.3216\n",
            "Epoch 232/500\n",
            "26/26 [==============================] - 23s 883ms/step - loss: 0.2829 - val_loss: 0.3102\n",
            "Epoch 233/500\n",
            "26/26 [==============================] - 23s 887ms/step - loss: 0.2880 - val_loss: 0.2995\n",
            "Epoch 234/500\n",
            "26/26 [==============================] - 23s 890ms/step - loss: 0.2818 - val_loss: 0.2946\n",
            "Epoch 235/500\n",
            "26/26 [==============================] - 23s 888ms/step - loss: 0.2367 - val_loss: 0.2930\n",
            "Epoch 236/500\n",
            "26/26 [==============================] - 23s 888ms/step - loss: 0.2177 - val_loss: 0.2905\n",
            "Epoch 237/500\n",
            "26/26 [==============================] - 23s 890ms/step - loss: 0.3435 - val_loss: 0.2892\n",
            "Epoch 238/500\n",
            "26/26 [==============================] - 23s 889ms/step - loss: 0.3058 - val_loss: 0.2984\n",
            "Epoch 239/500\n",
            "26/26 [==============================] - 23s 889ms/step - loss: 0.2373 - val_loss: 0.2872\n",
            "Epoch 240/500\n",
            "26/26 [==============================] - 23s 884ms/step - loss: 0.2682 - val_loss: 0.2806\n",
            "Epoch 241/500\n",
            "26/26 [==============================] - 23s 892ms/step - loss: 0.2337 - val_loss: 0.2809\n",
            "Epoch 242/500\n",
            "26/26 [==============================] - 23s 890ms/step - loss: 0.2278 - val_loss: 0.2803\n",
            "Epoch 243/500\n",
            "26/26 [==============================] - 23s 895ms/step - loss: 0.3861 - val_loss: 0.2933\n",
            "Epoch 244/500\n",
            "26/26 [==============================] - 23s 890ms/step - loss: 0.2746 - val_loss: 0.2807\n",
            "Epoch 245/500\n",
            "26/26 [==============================] - 23s 886ms/step - loss: 0.2706 - val_loss: 0.2781\n",
            "Epoch 246/500\n",
            "26/26 [==============================] - 23s 890ms/step - loss: 0.2970 - val_loss: 0.2804\n",
            "Epoch 247/500\n",
            "26/26 [==============================] - 23s 893ms/step - loss: 0.2297 - val_loss: 0.2703\n",
            "Epoch 248/500\n",
            "26/26 [==============================] - 23s 881ms/step - loss: 0.2540 - val_loss: 0.2704\n",
            "Epoch 249/500\n",
            "26/26 [==============================] - 23s 890ms/step - loss: 0.3275 - val_loss: 0.2741\n",
            "Epoch 250/500\n",
            "26/26 [==============================] - 23s 885ms/step - loss: 0.2428 - val_loss: 0.2649\n",
            "Epoch 251/500\n",
            "26/26 [==============================] - 23s 894ms/step - loss: 0.3407 - val_loss: 0.2674\n",
            "Epoch 252/500\n",
            "26/26 [==============================] - 23s 888ms/step - loss: 0.2404 - val_loss: 0.2619\n",
            "Epoch 253/500\n",
            "26/26 [==============================] - 23s 887ms/step - loss: 0.2641 - val_loss: 0.2578\n",
            "Epoch 254/500\n",
            "26/26 [==============================] - 23s 888ms/step - loss: 0.2216 - val_loss: 0.2550\n",
            "Epoch 255/500\n",
            "26/26 [==============================] - 24s 906ms/step - loss: 0.3228 - val_loss: 0.2645\n",
            "Epoch 256/500\n",
            "26/26 [==============================] - 23s 892ms/step - loss: 0.2216 - val_loss: 0.2568\n",
            "Epoch 257/500\n",
            "26/26 [==============================] - 23s 894ms/step - loss: 0.2310 - val_loss: 0.2531\n",
            "Epoch 258/500\n",
            "26/26 [==============================] - 23s 894ms/step - loss: 0.3338 - val_loss: 0.2510\n",
            "Epoch 259/500\n",
            "26/26 [==============================] - 23s 889ms/step - loss: 0.2262 - val_loss: 0.2485\n",
            "Epoch 260/500\n",
            "26/26 [==============================] - 23s 889ms/step - loss: 0.2261 - val_loss: 0.2524\n",
            "Epoch 261/500\n",
            "26/26 [==============================] - 23s 882ms/step - loss: 0.2322 - val_loss: 0.2482\n",
            "Epoch 262/500\n",
            "26/26 [==============================] - 23s 889ms/step - loss: 0.1760 - val_loss: 0.2424\n",
            "Epoch 263/500\n",
            "26/26 [==============================] - 23s 890ms/step - loss: 0.2442 - val_loss: 0.2415\n",
            "Epoch 264/500\n",
            "26/26 [==============================] - 23s 883ms/step - loss: 0.1865 - val_loss: 0.2401\n",
            "Epoch 265/500\n",
            "26/26 [==============================] - 23s 895ms/step - loss: 0.2426 - val_loss: 0.2458\n",
            "Epoch 266/500\n",
            "26/26 [==============================] - 23s 882ms/step - loss: 0.2026 - val_loss: 0.2388\n",
            "Epoch 267/500\n",
            "26/26 [==============================] - 23s 891ms/step - loss: 0.2701 - val_loss: 0.2368\n",
            "Epoch 268/500\n",
            "26/26 [==============================] - 23s 889ms/step - loss: 0.2060 - val_loss: 0.2374\n",
            "Epoch 269/500\n",
            "26/26 [==============================] - 23s 893ms/step - loss: 0.2596 - val_loss: 0.2332\n",
            "Epoch 270/500\n",
            "26/26 [==============================] - 23s 890ms/step - loss: 0.2779 - val_loss: 0.2298\n",
            "Epoch 271/500\n",
            "26/26 [==============================] - 23s 890ms/step - loss: 0.2234 - val_loss: 0.2296\n",
            "Epoch 272/500\n",
            "26/26 [==============================] - 23s 888ms/step - loss: 0.2522 - val_loss: 0.2352\n",
            "Epoch 273/500\n",
            "26/26 [==============================] - 23s 897ms/step - loss: 0.2634 - val_loss: 0.2306\n",
            "Epoch 274/500\n",
            "26/26 [==============================] - 23s 890ms/step - loss: 0.2674 - val_loss: 0.2266\n",
            "Epoch 275/500\n",
            "26/26 [==============================] - 23s 886ms/step - loss: 0.2586 - val_loss: 0.2302\n",
            "Epoch 276/500\n",
            "26/26 [==============================] - 23s 884ms/step - loss: 0.2313 - val_loss: 0.2307\n",
            "Epoch 277/500\n",
            "26/26 [==============================] - 23s 887ms/step - loss: 0.2183 - val_loss: 0.2239\n",
            "Epoch 278/500\n",
            "26/26 [==============================] - 23s 887ms/step - loss: 0.2450 - val_loss: 0.2254\n",
            "Epoch 279/500\n",
            "26/26 [==============================] - 23s 887ms/step - loss: 0.2309 - val_loss: 0.2245\n",
            "Epoch 280/500\n",
            "26/26 [==============================] - 23s 887ms/step - loss: 0.2326 - val_loss: 0.2194\n",
            "Epoch 281/500\n",
            "26/26 [==============================] - 23s 888ms/step - loss: 0.1732 - val_loss: 0.2150\n",
            "Epoch 282/500\n",
            "26/26 [==============================] - 23s 878ms/step - loss: 0.1565 - val_loss: 0.2170\n",
            "Epoch 283/500\n",
            "26/26 [==============================] - 23s 892ms/step - loss: 0.2204 - val_loss: 0.2194\n",
            "Epoch 284/500\n",
            "26/26 [==============================] - 23s 886ms/step - loss: 0.1742 - val_loss: 0.2158\n",
            "Epoch 285/500\n",
            "26/26 [==============================] - 23s 881ms/step - loss: 0.1815 - val_loss: 0.2136\n",
            "Epoch 286/500\n",
            "26/26 [==============================] - 23s 888ms/step - loss: 0.2451 - val_loss: 0.2107\n",
            "Epoch 287/500\n",
            "26/26 [==============================] - 23s 891ms/step - loss: 0.1810 - val_loss: 0.2100\n",
            "Epoch 288/500\n",
            "26/26 [==============================] - 23s 888ms/step - loss: 0.1650 - val_loss: 0.2072\n",
            "Epoch 289/500\n",
            "26/26 [==============================] - 23s 896ms/step - loss: 0.2212 - val_loss: 0.2104\n",
            "Epoch 290/500\n",
            "26/26 [==============================] - 23s 890ms/step - loss: 0.1879 - val_loss: 0.2078\n",
            "Epoch 291/500\n",
            "26/26 [==============================] - 23s 895ms/step - loss: 0.1950 - val_loss: 0.2072\n",
            "Epoch 292/500\n",
            "26/26 [==============================] - 23s 887ms/step - loss: 0.1956 - val_loss: 0.2059\n",
            "Epoch 293/500\n",
            "26/26 [==============================] - 23s 891ms/step - loss: 0.2227 - val_loss: 0.2027\n",
            "Epoch 294/500\n",
            "26/26 [==============================] - 23s 885ms/step - loss: 0.1933 - val_loss: 0.2017\n",
            "Epoch 295/500\n",
            "26/26 [==============================] - 23s 888ms/step - loss: 0.1660 - val_loss: 0.2032\n",
            "Epoch 296/500\n",
            "26/26 [==============================] - 23s 892ms/step - loss: 0.1720 - val_loss: 0.2002\n",
            "Epoch 297/500\n",
            "26/26 [==============================] - 23s 886ms/step - loss: 0.1760 - val_loss: 0.2001\n",
            "Epoch 298/500\n",
            "26/26 [==============================] - 23s 888ms/step - loss: 0.2819 - val_loss: 0.2231\n",
            "Epoch 299/500\n",
            "26/26 [==============================] - 23s 890ms/step - loss: 0.1810 - val_loss: 0.2339\n",
            "Epoch 300/500\n",
            "26/26 [==============================] - 23s 889ms/step - loss: 0.2246 - val_loss: 0.2115\n",
            "Epoch 301/500\n",
            "26/26 [==============================] - 23s 887ms/step - loss: 0.2359 - val_loss: 0.2073\n",
            "Epoch 302/500\n",
            "26/26 [==============================] - 23s 889ms/step - loss: 0.2013 - val_loss: 0.1991\n",
            "Epoch 303/500\n",
            "26/26 [==============================] - 23s 882ms/step - loss: 0.1973 - val_loss: 0.1994\n",
            "Epoch 304/500\n",
            "26/26 [==============================] - 23s 883ms/step - loss: 0.1864 - val_loss: 0.2000\n",
            "Epoch 305/500\n",
            "26/26 [==============================] - 23s 889ms/step - loss: 0.1595 - val_loss: 0.1915\n",
            "Epoch 306/500\n",
            "26/26 [==============================] - 23s 883ms/step - loss: 0.2254 - val_loss: 0.1899\n",
            "Epoch 307/500\n",
            "26/26 [==============================] - 23s 890ms/step - loss: 0.1792 - val_loss: 0.1897\n",
            "Epoch 308/500\n",
            "26/26 [==============================] - 23s 890ms/step - loss: 0.1476 - val_loss: 0.1888\n",
            "Epoch 309/500\n",
            "26/26 [==============================] - 23s 886ms/step - loss: 0.1433 - val_loss: 0.1914\n",
            "Epoch 310/500\n",
            "26/26 [==============================] - 23s 890ms/step - loss: 0.1799 - val_loss: 0.1857\n",
            "Epoch 311/500\n",
            "26/26 [==============================] - 23s 888ms/step - loss: 0.1526 - val_loss: 0.1845\n",
            "Epoch 312/500\n",
            "26/26 [==============================] - 23s 884ms/step - loss: 0.2435 - val_loss: 0.1879\n",
            "Epoch 313/500\n",
            "26/26 [==============================] - 23s 900ms/step - loss: 0.2287 - val_loss: 0.1864\n",
            "Epoch 314/500\n",
            "26/26 [==============================] - 23s 889ms/step - loss: 0.2311 - val_loss: 0.1918\n",
            "Epoch 315/500\n",
            "26/26 [==============================] - 23s 885ms/step - loss: 0.1798 - val_loss: 0.1886\n",
            "Epoch 316/500\n",
            "26/26 [==============================] - 23s 885ms/step - loss: 0.2328 - val_loss: 0.1813\n",
            "Epoch 317/500\n",
            "26/26 [==============================] - 23s 882ms/step - loss: 0.1793 - val_loss: 0.1812\n",
            "Epoch 318/500\n",
            "26/26 [==============================] - 24s 912ms/step - loss: 0.1679 - val_loss: 0.1796\n",
            "Epoch 319/500\n",
            "26/26 [==============================] - 23s 886ms/step - loss: 0.1417 - val_loss: 0.1764\n",
            "Epoch 320/500\n",
            "26/26 [==============================] - 23s 882ms/step - loss: 0.1491 - val_loss: 0.1773\n",
            "Epoch 321/500\n",
            "26/26 [==============================] - 23s 887ms/step - loss: 0.1799 - val_loss: 0.1757\n",
            "Epoch 322/500\n",
            "26/26 [==============================] - 23s 884ms/step - loss: 0.1876 - val_loss: 0.1756\n",
            "Epoch 323/500\n",
            "26/26 [==============================] - 23s 900ms/step - loss: 0.1627 - val_loss: 0.1798\n",
            "Epoch 324/500\n",
            "26/26 [==============================] - 23s 898ms/step - loss: 0.1466 - val_loss: 0.1733\n",
            "Epoch 325/500\n",
            "26/26 [==============================] - 23s 888ms/step - loss: 0.1537 - val_loss: 0.1719\n",
            "Epoch 326/500\n",
            "26/26 [==============================] - 23s 885ms/step - loss: 0.1495 - val_loss: 0.1723\n",
            "Epoch 327/500\n",
            "26/26 [==============================] - 23s 887ms/step - loss: 0.1270 - val_loss: 0.1701\n",
            "Epoch 328/500\n",
            "26/26 [==============================] - 23s 885ms/step - loss: 0.1765 - val_loss: 0.1768\n",
            "Epoch 329/500\n",
            "26/26 [==============================] - 23s 890ms/step - loss: 0.1405 - val_loss: 0.1733\n",
            "Epoch 330/500\n",
            "26/26 [==============================] - 23s 903ms/step - loss: 0.1922 - val_loss: 0.1812\n",
            "Epoch 331/500\n",
            "26/26 [==============================] - 23s 884ms/step - loss: 0.1564 - val_loss: 0.1689\n",
            "Epoch 332/500\n",
            "26/26 [==============================] - 23s 884ms/step - loss: 0.1418 - val_loss: 0.1685\n",
            "Epoch 333/500\n",
            "26/26 [==============================] - 23s 888ms/step - loss: 0.1590 - val_loss: 0.1652\n",
            "Epoch 334/500\n",
            "26/26 [==============================] - 23s 883ms/step - loss: 0.1731 - val_loss: 0.1642\n",
            "Epoch 335/500\n",
            "26/26 [==============================] - 23s 887ms/step - loss: 0.2351 - val_loss: 0.1636\n",
            "Epoch 336/500\n",
            "26/26 [==============================] - 23s 887ms/step - loss: 0.1306 - val_loss: 0.1652\n",
            "Epoch 337/500\n",
            "26/26 [==============================] - 23s 898ms/step - loss: 0.1461 - val_loss: 0.1624\n",
            "Epoch 338/500\n",
            "26/26 [==============================] - 23s 880ms/step - loss: 0.1633 - val_loss: 0.1612\n",
            "Epoch 339/500\n",
            "26/26 [==============================] - 23s 881ms/step - loss: 0.1763 - val_loss: 0.1646\n",
            "Epoch 340/500\n",
            "26/26 [==============================] - 23s 886ms/step - loss: 0.1383 - val_loss: 0.1662\n",
            "Epoch 341/500\n",
            "26/26 [==============================] - 23s 879ms/step - loss: 0.1304 - val_loss: 0.1634\n",
            "Epoch 342/500\n",
            "26/26 [==============================] - 23s 883ms/step - loss: 0.1424 - val_loss: 0.1597\n",
            "Epoch 343/500\n",
            "26/26 [==============================] - 23s 879ms/step - loss: 0.1147 - val_loss: 0.1620\n",
            "Epoch 344/500\n",
            "26/26 [==============================] - 24s 913ms/step - loss: 0.1356 - val_loss: 0.1645\n",
            "Epoch 345/500\n",
            "26/26 [==============================] - 23s 888ms/step - loss: 0.1876 - val_loss: 0.1638\n",
            "Epoch 346/500\n",
            "26/26 [==============================] - 23s 888ms/step - loss: 0.1390 - val_loss: 0.1568\n",
            "Epoch 347/500\n",
            "26/26 [==============================] - 23s 888ms/step - loss: 0.1264 - val_loss: 0.1549\n",
            "Epoch 348/500\n",
            "26/26 [==============================] - 23s 887ms/step - loss: 0.2081 - val_loss: 0.1674\n",
            "Epoch 349/500\n",
            "26/26 [==============================] - 23s 878ms/step - loss: 0.1543 - val_loss: 0.1647\n",
            "Epoch 350/500\n",
            "26/26 [==============================] - 23s 903ms/step - loss: 0.1007 - val_loss: 0.1574\n",
            "Epoch 351/500\n",
            "26/26 [==============================] - 23s 888ms/step - loss: 0.1466 - val_loss: 0.1581\n",
            "Epoch 352/500\n",
            "26/26 [==============================] - 23s 888ms/step - loss: 0.1714 - val_loss: 0.1673\n",
            "Epoch 353/500\n",
            "26/26 [==============================] - 23s 887ms/step - loss: 0.1275 - val_loss: 0.1589\n",
            "Epoch 354/500\n",
            "26/26 [==============================] - 23s 885ms/step - loss: 0.1443 - val_loss: 0.1544\n",
            "Epoch 355/500\n",
            "26/26 [==============================] - 23s 887ms/step - loss: 0.0999 - val_loss: 0.1506\n",
            "Epoch 356/500\n",
            "26/26 [==============================] - 23s 884ms/step - loss: 0.1246 - val_loss: 0.1487\n",
            "Epoch 357/500\n",
            "26/26 [==============================] - 23s 887ms/step - loss: 0.1365 - val_loss: 0.1559\n",
            "Epoch 358/500\n",
            "26/26 [==============================] - 24s 913ms/step - loss: 0.1462 - val_loss: 0.1525\n",
            "Epoch 359/500\n",
            "26/26 [==============================] - 23s 889ms/step - loss: 0.1400 - val_loss: 0.1510\n",
            "Epoch 360/500\n",
            "26/26 [==============================] - 23s 887ms/step - loss: 0.1118 - val_loss: 0.1471\n",
            "Epoch 361/500\n",
            "26/26 [==============================] - 24s 924ms/step - loss: 0.1830 - val_loss: 0.1542\n",
            "Epoch 362/500\n",
            "26/26 [==============================] - 23s 889ms/step - loss: 0.1236 - val_loss: 0.1497\n",
            "Epoch 363/500\n",
            "26/26 [==============================] - 23s 892ms/step - loss: 0.1259 - val_loss: 0.1454\n",
            "Epoch 364/500\n",
            "26/26 [==============================] - 23s 887ms/step - loss: 0.1457 - val_loss: 0.1447\n",
            "Epoch 365/500\n",
            "26/26 [==============================] - 23s 886ms/step - loss: 0.1248 - val_loss: 0.1455\n",
            "Epoch 366/500\n",
            "26/26 [==============================] - 23s 881ms/step - loss: 0.1251 - val_loss: 0.1432\n",
            "Epoch 367/500\n",
            "26/26 [==============================] - 23s 882ms/step - loss: 0.1082 - val_loss: 0.1453\n",
            "Epoch 368/500\n",
            "26/26 [==============================] - 23s 886ms/step - loss: 0.1196 - val_loss: 0.1444\n",
            "Epoch 369/500\n",
            "26/26 [==============================] - 23s 903ms/step - loss: 0.1402 - val_loss: 0.1403\n",
            "Epoch 370/500\n",
            "26/26 [==============================] - 23s 885ms/step - loss: 0.2101 - val_loss: 0.1467\n",
            "Epoch 371/500\n",
            "26/26 [==============================] - 23s 885ms/step - loss: 0.1144 - val_loss: 0.1415\n",
            "Epoch 372/500\n",
            "26/26 [==============================] - 23s 883ms/step - loss: 0.1110 - val_loss: 0.1397\n",
            "Epoch 373/500\n",
            "26/26 [==============================] - 23s 885ms/step - loss: 0.1324 - val_loss: 0.1404\n",
            "Epoch 374/500\n",
            "26/26 [==============================] - 23s 881ms/step - loss: 0.1021 - val_loss: 0.1368\n",
            "Epoch 375/500\n",
            "26/26 [==============================] - 23s 879ms/step - loss: 0.1502 - val_loss: 0.1435\n",
            "Epoch 376/500\n",
            "26/26 [==============================] - 24s 923ms/step - loss: 0.1442 - val_loss: 0.1798\n",
            "Epoch 377/500\n",
            "26/26 [==============================] - 23s 883ms/step - loss: 0.1691 - val_loss: 0.1556\n",
            "Epoch 378/500\n",
            "26/26 [==============================] - 23s 888ms/step - loss: 0.1267 - val_loss: 0.1437\n",
            "Epoch 379/500\n",
            "26/26 [==============================] - 23s 888ms/step - loss: 0.1283 - val_loss: 0.1419\n",
            "Epoch 380/500\n",
            "26/26 [==============================] - 23s 890ms/step - loss: 0.2163 - val_loss: 0.1497\n",
            "Epoch 381/500\n",
            "26/26 [==============================] - 23s 891ms/step - loss: 0.1905 - val_loss: 0.1586\n",
            "Epoch 382/500\n",
            "26/26 [==============================] - 23s 882ms/step - loss: 0.1496 - val_loss: 0.1471\n",
            "Epoch 383/500\n",
            "26/26 [==============================] - 23s 891ms/step - loss: 0.1144 - val_loss: 0.1351\n",
            "Epoch 384/500\n",
            "26/26 [==============================] - 23s 903ms/step - loss: 0.1462 - val_loss: 0.1370\n",
            "Epoch 385/500\n",
            "26/26 [==============================] - 23s 882ms/step - loss: 0.1502 - val_loss: 0.1475\n",
            "Epoch 386/500\n",
            "26/26 [==============================] - 23s 883ms/step - loss: 0.1179 - val_loss: 0.1496\n",
            "Epoch 387/500\n",
            "26/26 [==============================] - 23s 885ms/step - loss: 0.1022 - val_loss: 0.1380\n",
            "Epoch 388/500\n",
            "26/26 [==============================] - 23s 887ms/step - loss: 0.1099 - val_loss: 0.1463\n",
            "Epoch 389/500\n",
            "26/26 [==============================] - 23s 888ms/step - loss: 0.1315 - val_loss: 0.1331\n",
            "Epoch 390/500\n",
            "26/26 [==============================] - 23s 885ms/step - loss: 0.1486 - val_loss: 0.1333\n",
            "Epoch 391/500\n",
            "26/26 [==============================] - 24s 920ms/step - loss: 0.1414 - val_loss: 0.1375\n",
            "Epoch 392/500\n",
            "26/26 [==============================] - 23s 888ms/step - loss: 0.1204 - val_loss: 0.1303\n",
            "Epoch 393/500\n",
            "26/26 [==============================] - 23s 886ms/step - loss: 0.1208 - val_loss: 0.1344\n",
            "Epoch 394/500\n",
            "26/26 [==============================] - 23s 884ms/step - loss: 0.1280 - val_loss: 0.1280\n",
            "Epoch 395/500\n",
            "26/26 [==============================] - 23s 886ms/step - loss: 0.1057 - val_loss: 0.1256\n",
            "Epoch 396/500\n",
            "26/26 [==============================] - 23s 887ms/step - loss: 0.1563 - val_loss: 0.1293\n",
            "Epoch 397/500\n",
            "26/26 [==============================] - 23s 887ms/step - loss: 0.0934 - val_loss: 0.1261\n",
            "Epoch 398/500\n",
            "26/26 [==============================] - 23s 875ms/step - loss: 0.1044 - val_loss: 0.1240\n",
            "Epoch 399/500\n",
            "26/26 [==============================] - 24s 913ms/step - loss: 0.1151 - val_loss: 0.1239\n",
            "Epoch 400/500\n",
            "26/26 [==============================] - 23s 883ms/step - loss: 0.0980 - val_loss: 0.1228\n",
            "Epoch 401/500\n",
            "26/26 [==============================] - 23s 886ms/step - loss: 0.1920 - val_loss: 0.1453\n",
            "Epoch 402/500\n",
            "26/26 [==============================] - 23s 889ms/step - loss: 0.1013 - val_loss: 0.1321\n",
            "Epoch 403/500\n",
            "26/26 [==============================] - 24s 931ms/step - loss: 0.1137 - val_loss: 0.1235\n",
            "Epoch 404/500\n",
            "26/26 [==============================] - 23s 884ms/step - loss: 0.0868 - val_loss: 0.1223\n",
            "Epoch 405/500\n",
            "26/26 [==============================] - 23s 890ms/step - loss: 0.1422 - val_loss: 0.1254\n",
            "Epoch 406/500\n",
            "26/26 [==============================] - 23s 886ms/step - loss: 0.1142 - val_loss: 0.1210\n",
            "Epoch 407/500\n",
            "26/26 [==============================] - 23s 884ms/step - loss: 0.1139 - val_loss: 0.1219\n",
            "Epoch 408/500\n",
            "26/26 [==============================] - 23s 887ms/step - loss: 0.0966 - val_loss: 0.1206\n",
            "Epoch 409/500\n",
            "26/26 [==============================] - 23s 882ms/step - loss: 0.1178 - val_loss: 0.1241\n",
            "Epoch 410/500\n",
            "26/26 [==============================] - 24s 927ms/step - loss: 0.1244 - val_loss: 0.1196\n",
            "Epoch 411/500\n",
            "26/26 [==============================] - 23s 889ms/step - loss: 0.0852 - val_loss: 0.1188\n",
            "Epoch 412/500\n",
            "26/26 [==============================] - 23s 889ms/step - loss: 0.0985 - val_loss: 0.1169\n",
            "Epoch 413/500\n",
            "26/26 [==============================] - 23s 880ms/step - loss: 0.0814 - val_loss: 0.1154\n",
            "Epoch 414/500\n",
            "26/26 [==============================] - 23s 884ms/step - loss: 0.1128 - val_loss: 0.1234\n",
            "Epoch 415/500\n",
            "26/26 [==============================] - 23s 883ms/step - loss: 0.1035 - val_loss: 0.1190\n",
            "Epoch 416/500\n",
            "26/26 [==============================] - 23s 889ms/step - loss: 0.1285 - val_loss: 0.1207\n",
            "Epoch 417/500\n",
            "26/26 [==============================] - 23s 892ms/step - loss: 0.1363 - val_loss: 0.1155\n",
            "Epoch 418/500\n",
            "26/26 [==============================] - 24s 928ms/step - loss: 0.1004 - val_loss: 0.1140\n",
            "Epoch 419/500\n",
            "26/26 [==============================] - 23s 885ms/step - loss: 0.1175 - val_loss: 0.1168\n",
            "Epoch 420/500\n",
            "26/26 [==============================] - 23s 891ms/step - loss: 0.1014 - val_loss: 0.1130\n",
            "Epoch 421/500\n",
            "26/26 [==============================] - 23s 884ms/step - loss: 0.1149 - val_loss: 0.1174\n",
            "Epoch 422/500\n",
            "26/26 [==============================] - 23s 891ms/step - loss: 0.0959 - val_loss: 0.1141\n",
            "Epoch 423/500\n",
            "26/26 [==============================] - 23s 889ms/step - loss: 0.0905 - val_loss: 0.1111\n",
            "Epoch 424/500\n",
            "26/26 [==============================] - 23s 879ms/step - loss: 0.1057 - val_loss: 0.1118\n",
            "Epoch 425/500\n",
            "26/26 [==============================] - 23s 880ms/step - loss: 0.1256 - val_loss: 0.1116\n",
            "Epoch 426/500\n",
            "26/26 [==============================] - 23s 883ms/step - loss: 0.0879 - val_loss: 0.1102\n",
            "Epoch 427/500\n",
            "26/26 [==============================] - 23s 894ms/step - loss: 0.0949 - val_loss: 0.1110\n",
            "Epoch 428/500\n",
            "26/26 [==============================] - 24s 917ms/step - loss: 0.0955 - val_loss: 0.1128\n",
            "Epoch 429/500\n",
            "26/26 [==============================] - 23s 887ms/step - loss: 0.1039 - val_loss: 0.1090\n",
            "Epoch 430/500\n",
            "26/26 [==============================] - 23s 883ms/step - loss: 0.1307 - val_loss: 0.1175\n",
            "Epoch 431/500\n",
            "26/26 [==============================] - 23s 889ms/step - loss: 0.1231 - val_loss: 0.1160\n",
            "Epoch 432/500\n",
            "26/26 [==============================] - 23s 886ms/step - loss: 0.0957 - val_loss: 0.1094\n",
            "Epoch 433/500\n",
            "26/26 [==============================] - 23s 885ms/step - loss: 0.0970 - val_loss: 0.1159\n",
            "Epoch 434/500\n",
            "26/26 [==============================] - 23s 884ms/step - loss: 0.1221 - val_loss: 0.1079\n",
            "Epoch 435/500\n",
            "26/26 [==============================] - 23s 879ms/step - loss: 0.0908 - val_loss: 0.1081\n",
            "Epoch 436/500\n",
            "26/26 [==============================] - 23s 895ms/step - loss: 0.0927 - val_loss: 0.1173\n",
            "Epoch 437/500\n",
            "26/26 [==============================] - 23s 890ms/step - loss: 0.1005 - val_loss: 0.1068\n",
            "Epoch 438/500\n",
            "26/26 [==============================] - 23s 886ms/step - loss: 0.1644 - val_loss: 0.1336\n",
            "Epoch 439/500\n",
            "26/26 [==============================] - 23s 885ms/step - loss: 0.1412 - val_loss: 0.1153\n",
            "Epoch 440/500\n",
            "26/26 [==============================] - 23s 884ms/step - loss: 0.1269 - val_loss: 0.1085\n",
            "Epoch 441/500\n",
            "26/26 [==============================] - 23s 895ms/step - loss: 0.0984 - val_loss: 0.1069\n",
            "Epoch 442/500\n",
            "26/26 [==============================] - 23s 886ms/step - loss: 0.0757 - val_loss: 0.1052\n",
            "Epoch 443/500\n",
            "26/26 [==============================] - 23s 885ms/step - loss: 0.0698 - val_loss: 0.1031\n",
            "Epoch 444/500\n",
            "26/26 [==============================] - 23s 885ms/step - loss: 0.1024 - val_loss: 0.1091\n",
            "Epoch 445/500\n",
            "26/26 [==============================] - 24s 923ms/step - loss: 0.0920 - val_loss: 0.1031\n",
            "Epoch 446/500\n",
            "26/26 [==============================] - 23s 895ms/step - loss: 0.1075 - val_loss: 0.1056\n",
            "Epoch 447/500\n",
            "26/26 [==============================] - 24s 933ms/step - loss: 0.0985 - val_loss: 0.1041\n",
            "Epoch 448/500\n",
            "26/26 [==============================] - 23s 886ms/step - loss: 0.1004 - val_loss: 0.1020\n",
            "Epoch 449/500\n",
            "26/26 [==============================] - 23s 885ms/step - loss: 0.0850 - val_loss: 0.1024\n",
            "Epoch 450/500\n",
            "26/26 [==============================] - 23s 889ms/step - loss: 0.0763 - val_loss: 0.1002\n",
            "Epoch 451/500\n",
            "26/26 [==============================] - 23s 884ms/step - loss: 0.0890 - val_loss: 0.1043\n",
            "Epoch 452/500\n",
            "26/26 [==============================] - 23s 889ms/step - loss: 0.0844 - val_loss: 0.0997\n",
            "Epoch 453/500\n",
            "26/26 [==============================] - 23s 896ms/step - loss: 0.1112 - val_loss: 0.1038\n",
            "Epoch 454/500\n",
            "26/26 [==============================] - 23s 894ms/step - loss: 0.0971 - val_loss: 0.1019\n",
            "Epoch 455/500\n",
            "26/26 [==============================] - 23s 885ms/step - loss: 0.0732 - val_loss: 0.0990\n",
            "Epoch 456/500\n",
            "26/26 [==============================] - 24s 914ms/step - loss: 0.0962 - val_loss: 0.1009\n",
            "Epoch 457/500\n",
            "26/26 [==============================] - 23s 888ms/step - loss: 0.0728 - val_loss: 0.0996\n",
            "Epoch 458/500\n",
            "26/26 [==============================] - 23s 883ms/step - loss: 0.0832 - val_loss: 0.0981\n",
            "Epoch 459/500\n",
            "26/26 [==============================] - 23s 888ms/step - loss: 0.0947 - val_loss: 0.0974\n",
            "Epoch 460/500\n",
            "26/26 [==============================] - 24s 928ms/step - loss: 0.1660 - val_loss: 0.1681\n",
            "Epoch 461/500\n",
            "26/26 [==============================] - 23s 893ms/step - loss: 0.0925 - val_loss: 0.1201\n",
            "Epoch 462/500\n",
            "26/26 [==============================] - 23s 885ms/step - loss: 0.1055 - val_loss: 0.1043\n",
            "Epoch 463/500\n",
            "26/26 [==============================] - 23s 890ms/step - loss: 0.0809 - val_loss: 0.0995\n",
            "Epoch 464/500\n",
            "26/26 [==============================] - 23s 882ms/step - loss: 0.0888 - val_loss: 0.0983\n",
            "Epoch 465/500\n",
            "26/26 [==============================] - 23s 891ms/step - loss: 0.0641 - val_loss: 0.1000\n",
            "Epoch 466/500\n",
            "26/26 [==============================] - 23s 889ms/step - loss: 0.1185 - val_loss: 0.1477\n",
            "Epoch 467/500\n",
            "26/26 [==============================] - 23s 884ms/step - loss: 0.0941 - val_loss: 0.1143\n",
            "Epoch 468/500\n",
            "26/26 [==============================] - 23s 885ms/step - loss: 0.0992 - val_loss: 0.1087\n",
            "Epoch 469/500\n",
            "22/26 [========================>.....] - ETA: 1s - loss: 0.0725"
          ],
          "name": "stdout"
        }
      ]
    },
    {
      "cell_type": "code",
      "metadata": {
        "id": "k6ZbqFXe_WE8",
        "colab": {
          "base_uri": "https://localhost:8080/",
          "height": 295
        },
        "outputId": "4d8d6e3a-ee06-446d-bd5b-496a79825363"
      },
      "source": [
        "'''import matplotlib.pyplot as plt\n",
        "plt.title('Learning Curves')\n",
        "plt.xlabel('Epoch')\n",
        "plt.ylabel('Cross Entropy')\n",
        "plt.plot(history.history['loss'], label='train')\n",
        "plt.plot(history.history['val_loss'], label='val')\n",
        "plt.legend()\n",
        "plt.show()\n",
        "'''"
      ],
      "execution_count": null,
      "outputs": [
        {
          "output_type": "display_data",
          "data": {
            "image/png": "[encoded data removed]",
            "text/plain": [
              "<Figure size 432x288 with 1 Axes>"
            ]
          },
          "metadata": {
            "tags": [],
            "needs_background": "light"
          }
        }
      ]
    },
    {
      "cell_type": "code",
      "metadata": {
        "id": "UFZrYi8co6m0",
        "colab": {
          "base_uri": "https://localhost:8080/",
          "height": 295
        },
        "outputId": "e3be8687-23a4-4554-94f1-ce7f28a71aa2"
      },
      "source": [
        "\"\"\"\n",
        "import matplotlib.pyplot as plt\n",
        "plt.title('Learning Curves')\n",
        "plt.xlabel('Epoch')\n",
        "plt.ylabel('Cross Entropy')\n",
        "plt.plot(history.history['loss'], label='train')\n",
        "plt.plot(history.history['val_loss'], label='val')\n",
        "plt.legend()\n",
        "plt.show()\n",
        "\"\"\""
      ],
      "execution_count": null,
      "outputs": [
        {
          "output_type": "display_data",
          "data": {
            "image/png": "[encoded data removed]",
            "text/plain": [
              "<Figure size 432x288 with 1 Axes>"
            ]
          },
          "metadata": {
            "tags": [],
            "needs_background": "light"
          }
        }
      ]
    },
    {
      "cell_type": "code",
      "metadata": {
        "id": "mqjYLh-DeYEd"
      },
      "source": [
        "\n",
        "def predic_fun(input_sentence):\n",
        "    input_pred=[tknizer_ita.word_index[i] for i in input_sentence.split()] \n",
        "    print(\"input tokens\",input_pred)\n",
        "    a,b,c=model.layers[0](np.expand_dims(input_pred, 0))\n",
        "    state_values=[b,c]\n",
        "    start=\"<start>\"\n",
        "    pred=[]\n",
        "    for i in range(0,20):\n",
        "        start=tknizer_eng.word_index[start] \n",
        "        cur_vec = np.array(start).reshape(1,1)\n",
        "        cur_emb=model.layers[1].embedding(cur_vec)\n",
        "        infe_output, state_h, state_c = model.layers[1].lstm(cur_emb, initial_state=state_values)\n",
        "        state_values=[state_h, state_c]\n",
        "        infe_output=model.layers[2](infe_output)\n",
        "        ind=np.argmax(infe_output)\n",
        "        start=tknizer_eng.index_word[ind]\n",
        "        print(\"new eng word\",start)\n",
        "        pred.append(tknizer_eng.index_word[ind])\n",
        "        if start==\"<end>\":\n",
        "            break\n",
        "    return pred"
      ],
      "execution_count": null,
      "outputs": []
    },
    {
      "cell_type": "code",
      "metadata": {
        "id": "vV_ZUWlu29Q3",
        "colab": {
          "base_uri": "https://localhost:8080/"
        },
        "outputId": "a28cc823-5d6b-4fb1-d3f9-5436d0718388"
      },
      "source": [
        "model.layers"
      ],
      "execution_count": null,
      "outputs": [
        {
          "output_type": "execute_result",
          "data": {
            "text/plain": [
              "[<__main__.Encoder at 0x7f9e05c92588>,\n",
              " <__main__.Decoder at 0x7f9e05bd19b0>,\n",
              " <tensorflow.python.keras.layers.wrappers.TimeDistributed at 0x7f9f11b8b5c0>]"
            ]
          },
          "metadata": {
            "tags": []
          },
          "execution_count": 97
        }
      ]
    },
    {
      "cell_type": "code",
      "metadata": {
        "id": "IshLzUgbeYEg",
        "colab": {
          "base_uri": "https://localhost:8080/"
        },
        "outputId": "77c61ec8-b154-43b2-f36f-03aa9c19f3f9"
      },
      "source": [
        "predic_fun(\"corra\")"
      ],
      "execution_count": null,
      "outputs": [
        {
          "output_type": "stream",
          "text": [
            "input tokens [6300]\n",
            "new eng word tonguetied\n",
            "new eng word teaspoons\n",
            "new eng word specialty\n",
            "new eng word niagara\n",
            "new eng word showroom\n",
            "new eng word tonguetied\n",
            "new eng word quotations\n",
            "new eng word rid\n",
            "new eng word tom\n",
            "new eng word almost\n",
            "new eng word there\n",
            "new eng word the\n",
            "new eng word best\n",
            "new eng word <end>\n"
          ],
          "name": "stdout"
        },
        {
          "output_type": "execute_result",
          "data": {
            "text/plain": [
              "['tonguetied',\n",
              " 'teaspoons',\n",
              " 'specialty',\n",
              " 'niagara',\n",
              " 'showroom',\n",
              " 'tonguetied',\n",
              " 'quotations',\n",
              " 'rid',\n",
              " 'tom',\n",
              " 'almost',\n",
              " 'there',\n",
              " 'the',\n",
              " 'best',\n",
              " '<end>']"
            ]
          },
          "metadata": {
            "tags": []
          },
          "execution_count": 113
        }
      ]
    },
    {
      "cell_type": "code",
      "metadata": {
        "id": "DYSUNxtLeYEm",
        "colab": {
          "base_uri": "https://localhost:8080/",
          "height": 191
        },
        "outputId": "d535f01f-efc2-442b-db1e-25e288c048b9"
      },
      "source": [
        "data.head()"
      ],
      "execution_count": null,
      "outputs": [
        {
          "output_type": "execute_result",
          "data": {
            "text/html": [
              "<div>\n",
              "<style scoped>\n",
              "    .dataframe tbody tr th:only-of-type {\n",
              "        vertical-align: middle;\n",
              "    }\n",
              "\n",
              "    .dataframe tbody tr th {\n",
              "        vertical-align: top;\n",
              "    }\n",
              "\n",
              "    .dataframe thead th {\n",
              "        text-align: right;\n",
              "    }\n",
              "</style>\n",
              "<table border=\"1\" class=\"dataframe\">\n",
              "  <thead>\n",
              "    <tr style=\"text-align: right;\">\n",
              "      <th></th>\n",
              "      <th>italian</th>\n",
              "      <th>english_inp</th>\n",
              "      <th>english_out</th>\n",
              "    </tr>\n",
              "  </thead>\n",
              "  <tbody>\n",
              "    <tr>\n",
              "      <th>0</th>\n",
              "      <td>ciao</td>\n",
              "      <td>&lt;start&gt; hi</td>\n",
              "      <td>hi &lt;end&gt;</td>\n",
              "    </tr>\n",
              "    <tr>\n",
              "      <th>1</th>\n",
              "      <td>corri</td>\n",
              "      <td>&lt;start&gt; run</td>\n",
              "      <td>run &lt;end&gt;</td>\n",
              "    </tr>\n",
              "    <tr>\n",
              "      <th>2</th>\n",
              "      <td>corra</td>\n",
              "      <td>&lt;start&gt; run</td>\n",
              "      <td>run &lt;end&gt;</td>\n",
              "    </tr>\n",
              "    <tr>\n",
              "      <th>3</th>\n",
              "      <td>correte</td>\n",
              "      <td>&lt;start&gt; run</td>\n",
              "      <td>run &lt;end&gt;</td>\n",
              "    </tr>\n",
              "    <tr>\n",
              "      <th>4</th>\n",
              "      <td>chi</td>\n",
              "      <td>&lt;start&gt; who</td>\n",
              "      <td>who &lt;end&gt;</td>\n",
              "    </tr>\n",
              "  </tbody>\n",
              "</table>\n",
              "</div>"
            ],
            "text/plain": [
              "   italian  english_inp english_out\n",
              "0     ciao   <start> hi    hi <end>\n",
              "1    corri  <start> run   run <end>\n",
              "2    corra  <start> run   run <end>\n",
              "3  correte  <start> run   run <end>\n",
              "4      chi  <start> who   who <end>"
            ]
          },
          "metadata": {
            "tags": []
          },
          "execution_count": 101
        }
      ]
    },
    {
      "cell_type": "code",
      "metadata": {
        "id": "xfpidrhWeYEo"
      },
      "source": [
        ""
      ],
      "execution_count": null,
      "outputs": []
    },
    {
      "cell_type": "code",
      "metadata": {
        "id": "FSvWNGqBeYEw",
        "outputId": "e4895f71-1857-4cc1-b3e7-f8a959079b3d"
      },
      "source": [
        "start=\"<start>\"\n",
        "start=tknizer_eng.word_index[start] \n",
        "\n",
        "print(cur_vec)\n",
        "cur_emb=model.layers[1].embedding(cur_vec)\n",
        "infe_output, state_h, state_c = model.layers[1].lstm(cur_emb, initial_state=state_values)"
      ],
      "execution_count": null,
      "outputs": [
        {
          "output_type": "stream",
          "text": [
            "[[1]]\n"
          ],
          "name": "stdout"
        }
      ]
    },
    {
      "cell_type": "code",
      "metadata": {
        "id": "32cSbKCGeYE0",
        "outputId": "66c2b2b2-d0ee-4313-f603-b4665fa267b7"
      },
      "source": [
        "(model.layers[2](infe_output))"
      ],
      "execution_count": null,
      "outputs": [
        {
          "output_type": "execute_result",
          "data": {
            "text/plain": [
              "<tf.Tensor: shape=(1, 1, 12824), dtype=float32, numpy=\n",
              "array([[[4.4696963e-06, 4.8093671e-06, 3.4546074e-02, ...,\n",
              "         5.9254130e-06, 5.9093695e-06, 6.6285579e-06]]], dtype=float32)>"
            ]
          },
          "metadata": {
            "tags": []
          },
          "execution_count": 91
        }
      ]
    },
    {
      "cell_type": "code",
      "metadata": {
        "id": "w1D41-rff1Ef"
      },
      "source": [
        ""
      ],
      "execution_count": null,
      "outputs": []
    }
  ]
}
